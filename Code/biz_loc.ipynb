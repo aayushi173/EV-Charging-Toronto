{
 "cells": [
  {
   "cell_type": "code",
   "execution_count": 1,
   "id": "2e67a287",
   "metadata": {},
   "outputs": [
    {
     "name": "stderr",
     "output_type": "stream",
     "text": [
      "\n",
      "Attaching package: 'dplyr'\n",
      "\n",
      "The following objects are masked from 'package:stats':\n",
      "\n",
      "    filter, lag\n",
      "\n",
      "The following objects are masked from 'package:base':\n",
      "\n",
      "    intersect, setdiff, setequal, union\n",
      "\n",
      "Registered S3 methods overwritten by 'ggplot2':\n",
      "  method         from \n",
      "  [.quosures     rlang\n",
      "  c.quosures     rlang\n",
      "  print.quosures rlang\n"
     ]
    }
   ],
   "source": [
    "rm (list = ls())\n",
    "\n",
    "# Load libraries needed for general use\n",
    "library(dplyr)\n",
    "library(tidyr)\n",
    "library(ggplot2)"
   ]
  },
  {
   "cell_type": "code",
   "execution_count": 2,
   "id": "2efe8c94",
   "metadata": {},
   "outputs": [
    {
     "name": "stderr",
     "output_type": "stream",
     "text": [
      "Loading required package: opendatatoronto\n",
      "Warning message in library(package, lib.loc = lib.loc, character.only = TRUE, logical.return = TRUE, :\n",
      "\"there is no package called 'opendatatoronto'\"also installing the dependencies 'triebeard', 'proxy', 'urltools', 'httpcode', 'e1071', 'wk', 'crul', 'classInt', 's2', 'units', 'ckanr', 'sf'\n",
      "\n",
      "Warning message:\n",
      "\"unable to access index for repository https://cran.r-project.org/bin/windows/contrib/3.6:\n",
      "  cannot open URL 'https://cran.r-project.org/bin/windows/contrib/3.6/PACKAGES'\"Packages which are only available in source form, and may need\n",
      "  compilation of C/C++/Fortran: 'triebeard' 'proxy' 'urltools' 'e1071'\n",
      "  'wk' 'classInt' 's2' 'units' 'sf'\n"
     ]
    },
    {
     "name": "stdout",
     "output_type": "stream",
     "text": [
      "  These will not be installed\n"
     ]
    },
    {
     "name": "stderr",
     "output_type": "stream",
     "text": [
      "installing the source packages 'httpcode', 'crul', 'ckanr', 'opendatatoronto'\n",
      "\n",
      "Warning message in install.packages(\"opendatatoronto\"):\n",
      "\"installation of package 'crul' had non-zero exit status\"Warning message in install.packages(\"opendatatoronto\"):\n",
      "\"installation of package 'ckanr' had non-zero exit status\"Warning message in install.packages(\"opendatatoronto\"):\n",
      "\"installation of package 'opendatatoronto' had non-zero exit status\""
     ]
    },
    {
     "ename": "ERROR",
     "evalue": "Error in library(opendatatoronto): there is no package called 'opendatatoronto'\n",
     "output_type": "error",
     "traceback": [
      "Error in library(opendatatoronto): there is no package called 'opendatatoronto'\nTraceback:\n",
      "1. library(opendatatoronto)"
     ]
    }
   ],
   "source": [
    "############### This part is to load biz data from Toronto Open Data Source######################\n",
    "### The business data is download from https://open.toronto.ca/dataset/municipal-licensing-and-standards-business-licences-and-permits/\n",
    "### Using code from developer section as follows.\n",
    "# Load libraries needed for loading data from toronto open data source\n",
    "if (!require(opendatatoronto)) install.packages(\"opendatatoronto\")\n",
    "library(opendatatoronto)\n",
    "\n",
    "# get package\n",
    "package <- show_package(\"57b2285f-4f80-45fb-ae3e-41a02c3a137f\")\n",
    "package\n",
    "\n",
    "# get all resources for this package\n",
    "resources <- list_package_resources(\"57b2285f-4f80-45fb-ae3e-41a02c3a137f\")\n",
    "\n",
    "# identify datastore resources; by default, Toronto Open Data sets datastore resource format to CSV for non-geospatial and GeoJSON for geospatial resources\n",
    "datastore_resources <- filter(resources, tolower(format) %in% c('csv', 'geojson'))\n",
    "\n",
    "# load the first datastore resource as a sample\n",
    "biz_data <- filter(datastore_resources, row_number()==1) %>% get_resource()\n",
    "biz_data\n",
    "\n",
    "### backup data to biz_data_bak\n",
    "biz_data_bak = biz_data\n",
    "\n",
    "###Meaning of the data according to the readme from website are as follows\n",
    "###Category=Type of licence or permit\n",
    "###Licence No=Number. of licence issued by City of Toronto\n",
    "###Operating Name=Name that company operates under\n",
    "###Issued=Date of issue of licence/permit\n",
    "###Client Name=Name that the licence is issued to\n",
    "###Business Phone=Client Business Phone Number\n",
    "###Business Phone Ext.=Client Business Phone Extension Number\n",
    "###Licence Address Line 1=First line of client's business address\n",
    "###Licence Address Line 2=Client address town and province\n",
    "###Licence Address Line 3=Client address postal code\n",
    "###Conditions=Restriction on the licence/permit recorded in the licensing system\n",
    "###Free Form Conditions Line 1=Restriction/comment on the licence/permit\n",
    "###Free Form Conditions Line 2=Continuation of line 1 \n",
    "###Plate No.=Licence identifying plate, issued to most vehicles\n",
    "###Endorsements=Activity permitted under the licence\n",
    "###Cancel Date=Date the license or permit was cancelled\n",
    "############### End Of Data loading from  Toronto Open Data Source###############################"
   ]
  },
  {
   "cell_type": "code",
   "execution_count": 3,
   "id": "98b6c93c",
   "metadata": {},
   "outputs": [
    {
     "ename": "ERROR",
     "evalue": "Error in is.factor(x): object 'biz_data' not found\n",
     "output_type": "error",
     "traceback": [
      "Error in is.factor(x): object 'biz_data' not found\nTraceback:\n",
      "1. as.factor(biz_data$Category)",
      "2. is.factor(x)"
     ]
    }
   ],
   "source": [
    "############################### Data Cleansing ##################################################\n",
    "### Start cleaning up with change data type, filled in any empty data in Operating Name\n",
    "biz_data$Category = as.factor(biz_data$Category)\n",
    "biz_data$`Licence Address Line 2` = as.factor(biz_data$`Licence Address Line 2`)\n",
    "biz_data$Issued = as.Date(biz_data$Issued)\n",
    "biz_data$`Cancel Date` = as.Date(biz_data$`Cancel Date`)\n",
    "biz_data$`Last Record Update` = as.Date(biz_data$`Last Record Update`)\n",
    "biz_data$'Operating Name' <-ifelse(biz_data$'Operating Name' == \"\",biz_data$'Client Name',biz_data$'Operating Name')\n",
    "#str(biz_data)\n",
    "#summary(biz_data)\n",
    "head(biz_data)\n",
    "\n",
    "### remove biz that have cancel date as it indicates that business has already been cancelled (i.e. terminated)\n",
    "biz_data = biz_data[which(is.na(biz_data$'Cancel Date')),]\n",
    "\n",
    "#################################################################################################\n",
    "### only select business in Toronto with zip code starting with M3, M4, M5 and M6\n",
    "biz_data = biz_data[which(biz_data$'Licence Address Line 2' == \"TORONTO, ON\"),]\n",
    "biz_data = biz_data[which(biz_data$'Licence Address Line 3' > \"M3\" & biz_data$'Licence Address Line 3' < \"M7\"),]\n",
    "#################################################################################################\n",
    "#biz_data = biz_data %>%\n",
    "#  select(-'Cancel Date')\n",
    "\n",
    "###make column to identify street name from Licence.Address.Line.1 (might be useful for cluster work later)\n",
    "###first extracting the address number. grab only the data that are after the first space\n",
    "biz_data$Street <- sub(\"^\\\\S+\\\\s+\",'', biz_data$'Licence Address Line 1')\n",
    "###first extracting the address number. remove number\n",
    "biz_data$Street <- gsub(\"[[:digit:]]\", \"\", biz_data$Street)\n",
    "###remove other unneccessary characters\n",
    "biz_data$Street <- sub('-  ', '', biz_data$Street)\n",
    "biz_data$Street <- sub('&A ', '', biz_data$Street)\n",
    "biz_data$Street <- sub('& A ', '', biz_data$Street)\n",
    "biz_data$Street <- sub('&B ', '', biz_data$Street)\n",
    "biz_data$Street <- sub('& B ', '', biz_data$Street)\n",
    "biz_data$Street <- sub('&  ', '', biz_data$Street)\n",
    "biz_data$Street <- sub('&& ', '', biz_data$Street)\n",
    "biz_data$Street <- sub('& ', '', biz_data$Street)\n",
    "biz_data$Street <- sub('/ ', '', biz_data$Street)\n",
    "biz_data$Street <- sub('-A ', '', biz_data$Street)\n",
    "biz_data$Street <- sub('A-', '', biz_data$Street)\n",
    "biz_data$Street <- sub('- A ', '', biz_data$Street)\n",
    "biz_data$Street <- sub('-B ', '', biz_data$Street)\n",
    "biz_data$Street <- sub('- B ', '', biz_data$Street)\n",
    "biz_data$Street <- sub(\"(?<=^.{0}),\", \"\", biz_data$Street, perl = TRUE )\n",
    "biz_data$Street <- sub(\"(?<=^.{0})&\", \"\", biz_data$Street, perl = TRUE )\n",
    "biz_data$Street <- sub(\"(?<=^.{0})/\", \"\", biz_data$Street, perl = TRUE )\n",
    "biz_data$Street <- sub(\"(?<=^.{0})-\", \"\", biz_data$Street, perl = TRUE )\n",
    "### as data is not clean, there are sometimes suite number or other suffix follow them. therefore, we clean that part up too.\n",
    "biz_data$Street <- sub(\", #.*\", '', biz_data$Street)\n",
    "biz_data$Street <- sub(\" #.*\", '', biz_data$Street)\n",
    "biz_data$Street <- sub(\"#.*\", '', biz_data$Street)\n",
    "biz_data$Street <- sub(\" ,.*\", '', biz_data$Street)\n",
    "biz_data$Street <- sub(\",.*\", '', biz_data$Street)\n",
    "\n",
    "### use similar code to clean data and prepare for geo location\n",
    "biz_data$StreetAddress = paste(biz_data$'Licence Address Line 1')\n",
    "###remove other characters from address one\n",
    "biz_data$StreetAddress <- sub('-  ', '', biz_data$StreetAddress)\n",
    "biz_data$StreetAddress <- sub('&A ', '', biz_data$StreetAddress)\n",
    "biz_data$StreetAddress <- sub('& A ', '', biz_data$StreetAddress)\n",
    "biz_data$StreetAddress <- sub('&B ', '', biz_data$StreetAddress)\n",
    "biz_data$StreetAddress <- sub('& B ', '', biz_data$StreetAddress)\n",
    "biz_data$StreetAddress <- sub('&  ', '', biz_data$StreetAddress)\n",
    "biz_data$StreetAddress <- sub('&& ', '', biz_data$StreetAddress)\n",
    "biz_data$StreetAddress <- sub('& ', '', biz_data$StreetAddress)\n",
    "biz_data$StreetAddress <- sub('/ ', '', biz_data$StreetAddress)\n",
    "biz_data$StreetAddress <- sub('-A ', '', biz_data$StreetAddress)\n",
    "biz_data$StreetAddress <- sub('A-', '', biz_data$StreetAddress)\n",
    "biz_data$StreetAddress <- sub('- A ', '', biz_data$StreetAddress)\n",
    "biz_data$StreetAddress <- sub('-B ', '', biz_data$StreetAddress)\n",
    "biz_data$StreetAddress <- sub('- B ', '', biz_data$StreetAddress)\n",
    "### Removing suite number or other suffix follow them. therefore\n",
    "biz_data$StreetAddress <- sub(\", #.*\", '', biz_data$StreetAddress)\n",
    "biz_data$StreetAddress <- sub(\" #.*\", '', biz_data$StreetAddress)\n",
    "biz_data$StreetAddress <- sub(\"#.*\", '', biz_data$StreetAddress)\n",
    "biz_data$StreetAddress <- sub(\" ,.*\", '', biz_data$StreetAddress)\n",
    "biz_data$StreetAddress <- sub(\",.*\", '', biz_data$StreetAddress)\n",
    "############################### End of Data Cleansing ###########################################\n"
   ]
  },
  {
   "cell_type": "code",
   "execution_count": 4,
   "id": "e80196c2",
   "metadata": {},
   "outputs": [
    {
     "name": "stderr",
     "output_type": "stream",
     "text": [
      "Loading required package: tidyverse\n",
      "Registered S3 method overwritten by 'rvest':\n",
      "  method            from\n",
      "  read_xml.response xml2\n",
      "-- Attaching packages --------------------------------------- tidyverse 1.2.1 --\n",
      "v tibble  2.1.1     v purrr   0.3.2\n",
      "v readr   1.3.1     v stringr 1.4.0\n",
      "v tibble  2.1.1     v forcats 0.4.0\n",
      "-- Conflicts ------------------------------------------ tidyverse_conflicts() --\n",
      "x dplyr::filter() masks stats::filter()\n",
      "x dplyr::lag()    masks stats::lag()\n",
      "Loading required package: tidygeocoder\n",
      "Warning message in library(package, lib.loc = lib.loc, character.only = TRUE, logical.return = TRUE, :\n",
      "\"there is no package called 'tidygeocoder'\"also installing the dependencies 'cli', 'rlang', 'lifecycle'\n",
      "\n",
      "Warning message:\n",
      "\"unable to access index for repository https://cran.r-project.org/bin/windows/contrib/3.6:\n",
      "  cannot open URL 'https://cran.r-project.org/bin/windows/contrib/3.6/PACKAGES'\"Packages which are only available in source form, and may need\n",
      "  compilation of C/C++/Fortran: 'cli' 'rlang'\n"
     ]
    },
    {
     "name": "stdout",
     "output_type": "stream",
     "text": [
      "  These will not be installed\n"
     ]
    },
    {
     "name": "stderr",
     "output_type": "stream",
     "text": [
      "installing the source packages 'lifecycle', 'tidygeocoder'\n",
      "\n",
      "Warning message in install.packages(\"tidygeocoder\"):\n",
      "\"installation of package 'lifecycle' had non-zero exit status\"Warning message in install.packages(\"tidygeocoder\"):\n",
      "\"installation of package 'tidygeocoder' had non-zero exit status\""
     ]
    },
    {
     "ename": "ERROR",
     "evalue": "Error in library(tidygeocoder): there is no package called 'tidygeocoder'\n",
     "output_type": "error",
     "traceback": [
      "Error in library(tidygeocoder): there is no package called 'tidygeocoder'\nTraceback:\n",
      "1. library(tidygeocoder)"
     ]
    }
   ],
   "source": [
    "#######################Converting Address to Lat-Long ###########################################\n",
    "###convert to Lat- Long using tidygeocode : Reference https://www.youtube.com/watch?v=7nFZ5BwkAXc\n",
    "### Load libraries needed for geocode\n",
    "if (!require(tidyverse)) install.packages(\"tidyverse\")\n",
    "library(tidyverse)  \n",
    "if (!require(tidygeocoder)) install.packages(\"tidygeocoder\")\n",
    "library(tidygeocoder)  \n",
    "if (!require(sf)) install.packages(\"sf\")\n",
    "library(sf) \n",
    "if (!require(mapview)) install.packages(\"mapview\")\n",
    "library(mapview) \n",
    "\n",
    "### Prepare Data to be converted\n",
    "biz_data$Address <- paste(biz_data$StreetAddress,biz_data$'Licence Address Line 2',biz_data$'Licence Address Line 3', sep = \",\")\n",
    "biz_geo_loc = biz_data %>%\n",
    "  select(Category,`Operating Name`,city = 'Licence Address Line 2',Zip = 'Licence Address Line 3',Street, Address)\n",
    "\n",
    "### We narrow down the area to save time in processing, we have identify Toronoto City Center with following zipcode\n",
    "###area around M5C = M5H(W), M5B(N), M5E(S), M5A (E), M5G (NW), M5J (SW), M5T & M5V as extended area\n",
    "### for test purpose, select only M5C, M5E\n",
    "\n",
    "#biz_geo_loc = biz_geo_loc %>% filter(str_detect(Zip, \"M5C|M5E|M5B|M5G|M5H|M5T|M5V|M5J|M5A\"))\n",
    "#biz_geo_loc = biz_geo_loc %>% filter(str_detect(Zip, \"M5C|M5E\"))\n",
    "\n",
    "biz_geo_loc = biz_geo_loc %>% filter(str_detect(Zip, \"M6G|M6H|M6J|M5T|M5S|M5R|M4V\"))\n",
    "\n",
    "### Convert address to lat - long\n",
    "biz_geo_loc = biz_geo_loc %>%\n",
    "  tidygeocoder:: geocode(address = Address, method = \"osm\")\n",
    "\n",
    "###check if any na\n",
    "sapply(biz_geo_loc, function(x) sum(is.na(x)))\n",
    "\n",
    "biz_geo_loc1 = biz_geo_loc[-which(is.na(biz_geo_loc$lat)),]\n",
    "biz_geo_loc2 = biz_geo_loc[which(is.na(biz_geo_loc$lat)),]\n",
    "\n",
    "\n",
    "###display on map\n",
    "biz_geo_loc_sf = biz_geo_loc1 %>%\n",
    "  st_as_sf(\n",
    "    coords = c(\"long\",\"lat\"),\n",
    "    crs = 4326\n",
    "  )\n",
    "\n",
    "biz_geo_loc_sf %>% mapview()\n"
   ]
  },
  {
   "cell_type": "code",
   "execution_count": null,
   "id": "3ee41ac3",
   "metadata": {},
   "outputs": [],
   "source": []
  }
 ],
 "metadata": {
  "kernelspec": {
   "display_name": "R",
   "language": "R",
   "name": "ir"
  },
  "language_info": {
   "codemirror_mode": "r",
   "file_extension": ".r",
   "mimetype": "text/x-r-source",
   "name": "R",
   "pygments_lexer": "r",
   "version": "3.6.1"
  }
 },
 "nbformat": 4,
 "nbformat_minor": 5
}
