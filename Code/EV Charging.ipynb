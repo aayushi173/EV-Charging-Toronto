{
 "cells": [
  {
   "cell_type": "code",
   "execution_count": null,
   "metadata": {},
   "outputs": [
    {
     "name": "stderr",
     "output_type": "stream",
     "text": [
      "Installing package into 'C:/Users/heche/AppData/Local/R/win-library/4.3'\n",
      "(as 'lib' is unspecified)\n",
      "\n",
      "also installing the dependencies 'triebeard', 'proxy', 'urltools', 'httpcode', 'mime', 'tidyselect', 'blob', 'tidyr', 'rematch', 'hms', 'prettyunits', 'e1071', 'wk', 'DBI', 'crul', 'dplyr', 'dbplyr', 'cellranger', 'progress', 'classInt', 'Rcpp', 's2', 'units', 'pkgconfig', 'ckanr', 'readxl', 'sf', 'tibble', 'curl'\n",
      "\n",
      "\n"
     ]
    }
   ],
   "source": [
    "#download data from open data toronto\n",
    "install.packages(\"opendatatoronto\")\n",
    "library(opendatatoronto)\n",
    "library(dplyr)\n",
    " \n",
    "# get package\n",
    "package <- show_package(\"traffic-volumes-at-intersections-for-all-modes\")\n",
    "package\n",
    " \n",
    "# get all resources for this package\n",
    "resources <- list_package_resources(\"traffic-volumes-at-intersections-for-all-modes\")\n",
    " \n",
    "# identify datastore resources; by default, Toronto Open Data sets datastore resource format to CSV for non-geospatial and GeoJSON for geospatial resources\n",
    "datastore_resources <- filter(resources, tolower(format) %in% c('csv', 'geojson'))\n",
    " \n",
    "# load the first datastore resource as a sample\n",
    "data <- filter(datastore_resources, row_number()==1) %>% get_resource()\n",
    "data"
   ]
  },
  {
   "cell_type": "code",
   "execution_count": null,
   "metadata": {},
   "outputs": [],
   "source": []
  }
 ],
 "metadata": {
  "kernelspec": {
   "display_name": "R",
   "language": "R",
   "name": "ir"
  },
  "language_info": {
   "codemirror_mode": "r",
   "file_extension": ".r",
   "mimetype": "text/x-r-source",
   "name": "R",
   "pygments_lexer": "r",
   "version": "4.3.2"
  }
 },
 "nbformat": 4,
 "nbformat_minor": 2
}
