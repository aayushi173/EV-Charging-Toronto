{
 "cells": [
  {
   "cell_type": "code",
   "execution_count": 3,
   "metadata": {
    "vscode": {
     "languageId": "r"
    }
   },
   "outputs": [
    {
     "name": "stderr",
     "output_type": "stream",
     "text": [
      "Loading required package: opendatatoronto\n",
      "\n"
     ]
    },
    {
     "name": "stderr",
     "output_type": "stream",
     "text": [
      "Loading required package: tidyjson\n",
      "\n",
      "\n",
      "Attaching package: 'tidyjson'\n",
      "\n",
      "\n",
      "The following object is masked from 'package:stats':\n",
      "\n",
      "    filter\n",
      "\n",
      "\n",
      "Loading required package: tidygeocoder\n",
      "\n",
      "Loading required package: sf\n",
      "\n",
      "Linking to GEOS 3.11.2, GDAL 3.8.2, PROJ 9.3.1; sf_use_s2() is TRUE\n",
      "\n",
      "Loading required package: ggspatial\n",
      "\n",
      "Loading required package: stringr\n",
      "\n",
      "Loading required package: dplyr\n",
      "\n",
      "\n",
      "Attaching package: 'dplyr'\n",
      "\n",
      "\n",
      "The following objects are masked from 'package:stats':\n",
      "\n",
      "    filter, lag\n",
      "\n",
      "\n",
      "The following objects are masked from 'package:base':\n",
      "\n",
      "    intersect, setdiff, setequal, union\n",
      "\n",
      "\n",
      "Loading required package: ggplot2\n",
      "\n",
      "Loading required package: tidyverse\n",
      "\n",
      "── \u001b[1mAttaching core tidyverse packages\u001b[22m ──────────────────────── tidyverse 2.0.0 ──\n",
      "\u001b[32m✔\u001b[39m \u001b[34mforcats  \u001b[39m 1.0.0     \u001b[32m✔\u001b[39m \u001b[34mreadr    \u001b[39m 2.1.4\n",
      "\u001b[32m✔\u001b[39m \u001b[34mlubridate\u001b[39m 1.9.2     \u001b[32m✔\u001b[39m \u001b[34mtibble   \u001b[39m 3.2.1\n",
      "\u001b[32m✔\u001b[39m \u001b[34mpurrr    \u001b[39m 1.0.2     \u001b[32m✔\u001b[39m \u001b[34mtidyr    \u001b[39m 1.3.0\n",
      "── \u001b[1mConflicts\u001b[22m ────────────────────────────────────────── tidyverse_conflicts() ──\n",
      "\u001b[31m✖\u001b[39m \u001b[34mdplyr\u001b[39m::\u001b[32mfilter()\u001b[39m masks \u001b[34mtidyjson\u001b[39m::filter(), \u001b[34mstats\u001b[39m::filter()\n",
      "\u001b[31m✖\u001b[39m \u001b[34mdplyr\u001b[39m::\u001b[32mlag()\u001b[39m    masks \u001b[34mstats\u001b[39m::lag()\n",
      "\u001b[36mℹ\u001b[39m Use the conflicted package (\u001b[3m\u001b[34m<http://conflicted.r-lib.org/>\u001b[39m\u001b[23m) to force all conflicts to become errors\n",
      "Loading required package: FNN\n",
      "\n",
      "Loading required package: mapview\n",
      "\n"
     ]
    }
   ],
   "source": [
    "# Load all required libraries for the notebook, including data package\n",
    "if(!require(\"opendatatoronto\")) {\n",
    "    install.packages(\"opendatatoronto\")\n",
    "    library(opendatatoronto) # data source\n",
    "}\n",
    "if(!require(\"tidyjson\")) {\n",
    "    install.packages(\"tidyjson\")\n",
    "    library(tidyjson)\n",
    "}\n",
    "if(!require(\"tidygeocoder\")) {\n",
    "    install.packages(\"tidygeocoder\")\n",
    "    library(tidygeocoder)\n",
    "}\n",
    "if(!require(\"sf\")) {\n",
    "    install.packages(\"sf\")\n",
    "    library(sf)\n",
    "}\n",
    "\n",
    "if(!require(\"ggspatial\")) {\n",
    "    install.packages(\"ggspatial\")\n",
    "    library(ggspatial)\n",
    "}\n",
    "if(!require(\"stringr\")) {\n",
    "    install.packages(\"stringr\")\n",
    "    library(stringr)\n",
    "}\n",
    "if(!require(\"dplyr\")) {\n",
    "    install.packages(\"dplyr\")\n",
    "    library(dplyr)\n",
    "}\n",
    "if(!require(\"ggplot2\")) {\n",
    "    install.packages(\"ggplot2\")\n",
    "    library(ggplot2)\n",
    "}\n",
    "if(!require(\"tidyverse\")) {\n",
    "    install.packages(\"tidyverse\")\n",
    "    library(tidyverse)\n",
    "}\n",
    "if(!require(\"FNN\")) {\n",
    "    install.packages(\"FNN\")\n",
    "    library(FNN)\n",
    "}\n",
    "\n",
    "if(!require(\"mapview\")) {\n",
    "    install.packages(\"mapview\")\n",
    "    library(mapview)\n",
    "}"
   ]
  },
  {
   "cell_type": "code",
   "execution_count": 4,
   "metadata": {
    "vscode": {
     "languageId": "r"
    }
   },
   "outputs": [],
   "source": [
    "# Get Data - Traffic\n",
    "# output Data Description:\n",
    "# Dataframe with all intersection and daily count ( peak 4 hours), including lng / lat\n",
    "\n",
    "# # ? and todo:\n",
    "# # is separate street name needed\n",
    "# # direction of the street to be determined. How?\n",
    "\n",
    "\n",
    "# # package_traffic <- show_package(\"traffic-volumes-at-intersections-for-all-modes\")\n",
    "\n",
    "# # get all resources for this package\n",
    "# resources <- list_package_resources(\"traffic-volumes-at-intersections-for-all-modes\")\n",
    "\n",
    "# # identify datastore resources; by default, Toronto Open Data sets datastore resource format to CSV for non-geospatial and GeoJSON for geospatial resources\n",
    "# datastore_resources <- filter(resources, tolower(format) %in% c(\"csv\", \"geojson\"))\n",
    "\n",
    "# # load data # The method of loading data directly using turns out to be insufficient as the get_resource() only returns first 32000 rows of record. \n",
    "# location <- filter(datastore_resources, row_number() == 1) %>% get_resource()\n",
    "# traffic1 <- filter(datastore_resources, row_number() == 3) %>% get_resource()\n",
    "# traffic2 <- filter(datastore_resources, row_number() == 4) %>% get_resource()\n",
    "# traffic3 <- filter(datastore_resources, row_number() == 5) %>% get_resource()\n",
    "# traffic4 <- filter(datastore_resources, row_number() == 6) %>% get_resource()\n",
    "# traffic5 <- filter(datastore_resources, row_number() == 7) %>% get_resource()\n",
    "\n",
    "# To Run the code download the raw files from \n",
    "# https://open.toronto.ca/dataset/traffic-volumes-at-intersections-for-all-modes/ \n",
    "# and save the files in .csv format to the path: ../Data/Toronto/Traffic, 7 Files below. \n",
    "# count_metadata.csv\n",
    "# locations.csv\n",
    "# raw-data-1980-1989.csv\n",
    "# raw-data-1990-1999.csv\n",
    "# raw-data-2000-2009.csv\n",
    "# raw-data-2010-2019.csv\n",
    "# raw-data-2020-2029.csv\n",
    "location <- read.csv(\"../Data/Toronto/Traffic/locations.csv\") # ensure these path are correct if you have to download the files manually. \n",
    "traffic1 <- read.csv(\"../Data/Toronto/Traffic/raw-data-1980-1989.csv\")\n",
    "traffic2 <- read.csv(\"../Data/Toronto/Traffic/raw-data-1990-1999.csv\")\n",
    "traffic3 <- read.csv(\"../Data/Toronto/Traffic/raw-data-2000-2009.csv\")\n",
    "traffic4 <- read.csv(\"../Data/Toronto/Traffic/raw-data-2010-2019.csv\")\n",
    "traffic5 <- read.csv(\"../Data/Toronto/Traffic/raw-data-2020-2029.csv\")\n",
    "all_traffic = bind_rows(traffic1,traffic2,traffic3,traffic4,traffic5) # combine all raw data into one data frame"
   ]
  },
  {
   "cell_type": "code",
   "execution_count": 249,
   "metadata": {
    "vscode": {
     "languageId": "r"
    }
   },
   "outputs": [],
   "source": [
    "# clean and transform load - Traffic Data\n",
    "# Output data for modelling CleanTraffic\n",
    "# define parameters for cleaning\n",
    "peakhours <- 4 # number of peak hours of data per day. value should be between 1 and 10\n",
    "\n",
    "# get full intersection volume for each intersection based on peak hours of each day. \n",
    "# get average vol per intersection per year. \n",
    "# get number of years list, sort from low to high\n",
    "\n",
    "# \n",
    "\n",
    "CleanTraffic <- all_traffic %>%\n",
    "  filter(centreline_type == 2) %>% # only need intersection data\n",
    "  mutate(counthour = str_extract(time_start, \"(?<=T)(\\\\d+)(?=\\\\:)\")) %>% # extract hour\n",
    "  mutate(total_int_traffic = sb_cars_r + sb_cars_t + sb_cars_l +\n",
    "    nb_cars_r + nb_cars_t + nb_cars_l + wb_cars_r + wb_cars_t +\n",
    "    wb_cars_l + eb_cars_r + eb_cars_t + eb_cars_l) %>% # get total sum\n",
    "  select(one_of(c(\n",
    "    \"count_date\", \"location_id\", \"location\", \"lng\", \"lat\", \"counthour\",\n",
    "    \"total_int_traffic\"\n",
    "  ))) %>% # remove raw attributes, retain aggregate only\n",
    "  group_by(across(all_of(c(\"count_date\", \"location_id\", \"location\", \"lng\", \"lat\", \"counthour\")))) %>%\n",
    "  summarise_at(\"total_int_traffic\",sum) %>% # agregate hourly volume\n",
    "  group_by(across(all_of(c(\"count_date\", \"location_id\", \"location\", \"lng\", \"lat\")))) %>%\n",
    "  slice_max(order_by = total_int_traffic, n = peakhours) %>% # filter top peak hour volume\n",
    "  group_by(across(all_of(c(\"count_date\", \"location_id\", \"location\", \"lng\", \"lat\")))) %>%\n",
    "  summarise_at(\"total_int_traffic\", sum)%>% # aggregate daily peak hour volume\n",
    "  mutate(count_date= as.Date(count_date, format(\"%Y-%m-%d\"))) %>% \n",
    "  mutate(year = as.numeric(format(count_date,'%Y'))) %>% #add year\n",
    "  group_by(across(all_of(c(\"year\", \"location_id\", \"location\", \"lat\",\"lng\")))) %>% # group by year to get the average per intersection per year\n",
    "  summarise(AvgTotal = mean(total_int_traffic), .groups = \"drop\")  # average traffic volume for that year and location\n",
    "traffic_years <- unique(CleanTraffic$year) # get number of years list, sort from low to high"
   ]
  },
  {
   "cell_type": "code",
   "execution_count": 250,
   "metadata": {
    "vscode": {
     "languageId": "r"
    }
   },
   "outputs": [
    {
     "data": {
      "text/html": [
       "<style>\n",
       ".dl-inline {width: auto; margin:0; padding: 0}\n",
       ".dl-inline>dt, .dl-inline>dd {float: none; width: auto; display: inline-block}\n",
       ".dl-inline>dt::after {content: \":\\0020\"; padding-right: .5ex}\n",
       ".dl-inline>dt:not(:first-of-type) {padding-left: .5ex}\n",
       "</style><dl class=dl-inline><dt>address</dt><dd>'character'</dd><dt>lat</dt><dd>'character'</dd><dt>lng</dt><dd>'character'</dd><dt>carpark_type</dt><dd>'character'</dd><dt>rate_half_hr</dt><dd>'character'</dd><dt>capacity</dt><dd>'character'</dd><dt>rate</dt><dd>'character'</dd></dl>\n"
      ],
      "text/latex": [
       "\\begin{description*}\n",
       "\\item[address] 'character'\n",
       "\\item[lat] 'character'\n",
       "\\item[lng] 'character'\n",
       "\\item[carpark\\textbackslash{}\\_type] 'character'\n",
       "\\item[rate\\textbackslash{}\\_half\\textbackslash{}\\_hr] 'character'\n",
       "\\item[capacity] 'character'\n",
       "\\item[rate] 'character'\n",
       "\\end{description*}\n"
      ],
      "text/markdown": [
       "address\n",
       ":   'character'lat\n",
       ":   'character'lng\n",
       ":   'character'carpark_type\n",
       ":   'character'rate_half_hr\n",
       ":   'character'capacity\n",
       ":   'character'rate\n",
       ":   'character'\n",
       "\n"
      ],
      "text/plain": [
       "     address          lat          lng carpark_type rate_half_hr     capacity \n",
       " \"character\"  \"character\"  \"character\"  \"character\"  \"character\"  \"character\" \n",
       "        rate \n",
       " \"character\" "
      ]
     },
     "metadata": {},
     "output_type": "display_data"
    },
    {
     "data": {
      "text/html": [
       "<style>\n",
       ".dl-inline {width: auto; margin:0; padding: 0}\n",
       ".dl-inline>dt, .dl-inline>dd {float: none; width: auto; display: inline-block}\n",
       ".dl-inline>dt::after {content: \":\\0020\"; padding-right: .5ex}\n",
       ".dl-inline>dt:not(:first-of-type) {padding-left: .5ex}\n",
       "</style><dl class=dl-inline><dt>address</dt><dd>'character'</dd><dt>lat</dt><dd>'numeric'</dd><dt>lng</dt><dd>'numeric'</dd><dt>carpark_type</dt><dd>'character'</dd><dt>rate_half_hr</dt><dd>'numeric'</dd><dt>capacity</dt><dd>'numeric'</dd><dt>rate</dt><dd>'character'</dd></dl>\n"
      ],
      "text/latex": [
       "\\begin{description*}\n",
       "\\item[address] 'character'\n",
       "\\item[lat] 'numeric'\n",
       "\\item[lng] 'numeric'\n",
       "\\item[carpark\\textbackslash{}\\_type] 'character'\n",
       "\\item[rate\\textbackslash{}\\_half\\textbackslash{}\\_hr] 'numeric'\n",
       "\\item[capacity] 'numeric'\n",
       "\\item[rate] 'character'\n",
       "\\end{description*}\n"
      ],
      "text/markdown": [
       "address\n",
       ":   'character'lat\n",
       ":   'numeric'lng\n",
       ":   'numeric'carpark_type\n",
       ":   'character'rate_half_hr\n",
       ":   'numeric'capacity\n",
       ":   'numeric'rate\n",
       ":   'character'\n",
       "\n"
      ],
      "text/plain": [
       "     address          lat          lng carpark_type rate_half_hr     capacity \n",
       " \"character\"    \"numeric\"    \"numeric\"  \"character\"    \"numeric\"    \"numeric\" \n",
       "        rate \n",
       " \"character\" "
      ]
     },
     "metadata": {},
     "output_type": "display_data"
    },
    {
     "data": {
      "text/html": [
       "FALSE"
      ],
      "text/latex": [
       "FALSE"
      ],
      "text/markdown": [
       "FALSE"
      ],
      "text/plain": [
       "[1] FALSE"
      ]
     },
     "metadata": {},
     "output_type": "display_data"
    }
   ],
   "source": [
    "# Get Green P Parking package from Open Data-Toronto\n",
    "package <- show_package(\"b66466c3-69c8-4825-9c8b-04b270069193\")\n",
    "\n",
    "data=as.data.frame('Green P Parking')  # read the dataset Green P Parking in the package \n",
    "data<-show_package(package)\n",
    "\n",
    "resources<-list_package_resources(package)\n",
    "\n",
    "# Identify resources\n",
    "data_resources <- filter(resources, tolower(format) %in% c(\"csv\", \"json\"))\n",
    "\n",
    "# Load Green P Parking 2019 data\n",
    "data <- filter(data_resources, row_number() == 1) %>% get_resource()\n",
    "\n",
    "# Extract required columns from main data\n",
    "data<- data.frame(address=data$carparks$address,\n",
    "                                     lat=data$carparks$lat,\n",
    "                                     lng=data$carparks$lng,\n",
    "                                      carpark_type=data$carparks$carpark_type_str,\n",
    "                                      rate_half_hr=data$carparks$rate_half_hour,\n",
    "                                      capacity=data$carparks$capacity,\n",
    "                                      rate=data$carparks$rate_half_hour\n",
    "                  )\n",
    "\n",
    "# Check class of each attribute\n",
    "sapply(data, class) \n",
    "\n",
    "# Convert char to numeric class\n",
    "data$lat<-as.numeric(data$lat)\n",
    "data$lng<-as.numeric(data$lng)\n",
    "data$rate_half_hr<-as.numeric(data$rate_half_hr)\n",
    "data$capacity<-as.numeric(data$capacity)\n",
    "\n",
    "sapply(data, class) \n",
    "\n",
    "# Check for missing values\n",
    "any(is.na(data))\n",
    "\n",
    "# Extract street name from address\n",
    "data <- data %>%\n",
    "  mutate(extracted_address = str_replace_all(data$address, \"\\\\(.*?\\\\)\",\"\"))\n",
    "\n",
    "data$extracted_address<-str_replace_all(data$extracted_address, \"-.*\", \"\")\n",
    "data$extracted_address<-str_replace_all(data$extracted_address, \",.*\", \"\")\n",
    "\n",
    "# Extract data with carpark_type as 'Surface'\n",
    "data <- data %>%\n",
    "  filter(carpark_type == \"Surface\")\n",
    "\n"
   ]
  },
  {
   "cell_type": "code",
   "execution_count": 251,
   "metadata": {
    "vscode": {
     "languageId": "r"
    }
   },
   "outputs": [],
   "source": [
    "# Extracting address, latitude, and longitude\n",
    "data <- data[, c(\"address\", \"lat\", \"lng\")]\n",
    "\n",
    "# Adding the new rows\n",
    "new_rows <- data.frame(\n",
    "  address = c(\n",
    "    \"365 Lippincott Street\",\n",
    "    \"35 Erindale Avenue\",\n",
    "    \"14 Arundel Avenue\",\n",
    "    \"265 Armadale Avenue\",\n",
    "    \"1612 Danforth Avenue\",\n",
    "    \"117 Hammersmith Avenue\",\n",
    "    \"166 Woodbine Ave\",\n",
    "    \"19 Spadina Road\",\n",
    "    \"2300 Lake shore Boulevard West\",\n",
    "    \"35 Erindale Avenue\",\n",
    "    \"265 Armadale Avenue\",\n",
    "    \"2300 Lake shore Boulevard West\"\n",
    "  ),\n",
    "  lat = c(\n",
    "    43.665054,\n",
    "    43.688543,\n",
    "    43.695882,\n",
    "    43.721568,\n",
    "    43.684903,\n",
    "    43.693819,\n",
    "    43.674124,\n",
    "    43.677754,\n",
    "    43.623545,\n",
    "    43.688543,\n",
    "    43.721568,\n",
    "    43.623545\n",
    "  ),\n",
    "  lng = c(\n",
    "    -79.409662,\n",
    "    -79.411305,\n",
    "    -79.42134,\n",
    "    -79.427191,\n",
    "    -79.325679,\n",
    "    -79.428246,\n",
    "    -79.319325,\n",
    "    -79.403948,\n",
    "    -79.479056,\n",
    "    -79.411305,\n",
    "    -79.427191,\n",
    "    -79.479056\n",
    "  )\n",
    ")\n",
    "\n",
    "# Adding the new rows to the extracted GreenPParking dataset\n",
    "data <- rbind(data, new_rows)\n",
    "\n",
    "# Creating the 'Convert' column\n",
    "data$Convert <- ifelse(data$address %in% new_rows$address, 1, 0)\n",
    "\n",
    "write.csv(data, \"GreenPParking.csv\",row.names = FALSE)"
   ]
  },
  {
   "cell_type": "code",
   "execution_count": 252,
   "metadata": {
    "vscode": {
     "languageId": "r"
    }
   },
   "outputs": [
    {
     "name": "stderr",
     "output_type": "stream",
     "text": [
      "Passing 228 coordinates to the Nominatim single coordinate geocoder\n",
      "\n",
      "Query completed in: 237 seconds\n",
      "\n",
      "\u001b[1m\u001b[22mNew names:\n",
      "\u001b[36m•\u001b[39m `address` -> `address...1`\n",
      "\u001b[36m•\u001b[39m `address` -> `address...5`\n"
     ]
    }
   ],
   "source": [
    "# Graphical View of Parking Data\n",
    "# Convert Lat/Lng to address\n",
    "geo_rev_data<-data %>%\n",
    "  tidygeocoder::reverse_geocode(\n",
    "    lat=lat,\n",
    "    long=lng,\n",
    "    method=\"osm\")\n",
    "\n",
    "# # Plot map\n",
    "# map<-data %>%\n",
    "#   st_as_sf(\n",
    "#     coords=c(\"lng\",\"lat\"),\n",
    "#     crs=4326\n",
    "#   )\n",
    "\n",
    "# map %>% mapview()\n",
    "\n"
   ]
  },
  {
   "cell_type": "code",
   "execution_count": null,
   "metadata": {
    "vscode": {
     "languageId": "r"
    }
   },
   "outputs": [],
   "source": [
    "# Combine Parking Data and Clean Traffic Data to prepare input data for Time Series Model to predict traffic / EV charging demand\n",
    "\n",
    "# loop through low to high year number\n",
    "# filter each year, to list of unique intersections with traffic volume\n",
    "# run knn algo against parking lot, find k nearst intersection\n",
    "# use knn nn.index to find the k intersection vol, get average, creating a vector\n",
    "# add vector to parking data as new column with year and volume\n",
    "# next loop for the next year\n",
    "\n",
    "#Output TS_Input\n",
    "\n",
    "K <- 5 # Parameter used in knn calculation. \n",
    "All_park <- data %>%\n",
    "    select(one_of(c(\"lat\",\"lng\"))) # location coordinates of all surface car parks. \n",
    "\n",
    "TS_Input <- data # TS_Input is the input data for the time series of traffic volume forecast. \n",
    "\n",
    "for (i in traffic_years) {\n",
    "    # print(paste(\"This is year\" ,i))\n",
    "    year_traffic<- filter(CleanTraffic, year == i) # get the traffic volume, intersection for each year.\n",
    "    All_int <-select(year_traffic,one_of(c(\"lat\",\"lng\"))) # extract just the coordinates for K nearest neighter calculation\n",
    "    knn_dist <- get.knnx(All_int, All_park, k=K, algorithm=\"kd_tree\") # get the K nearest intersection to the parking lot and their index list\n",
    "    \n",
    "    get.mean <- function(x) { # custom function defined to calculate the average of the K nearest intersection volume\n",
    "    mean(slice(year_traffic, c(x))$AvgTotal)\n",
    "    }\n",
    "\n",
    "    TS_Input[paste0(\"NearbyTraffic_\",i)]  <- apply(knn_dist$nn.index,1,get.mean) # calculate the avaerage per row of indices\n",
    "\n",
    "}"
   ]
  },
  {
   "cell_type": "code",
   "execution_count": null,
   "metadata": {
    "vscode": {
     "languageId": "r"
    }
   },
   "outputs": [],
   "source": [
    "# Model 1 - Time Series Forecast\n",
    "\n",
    "# forecast traffic for 2024 given the TS_Input\n",
    "# apply % of EV vehicle multiplier for 2022 and predicted year 2024 to get amount of estimated EV traffic.\n",
    "# data frame that has the original location, EV traffic for 2022, and predicted EV traffic for 2024\n",
    "\n",
    "\n",
    "library(forecast)\n",
    "library(purrr)\n",
    "\n",
    "# Time series model and Forecast for 2024\n",
    "arima_models <- apply(TS_Input[, -c(1,2,3,4,5,6,7,8)], 1, auto.arima)\n",
    "model_forecasts_2024 <- lapply(arima_models, function(x) forecast(x, h = 1))\n",
    "\n",
    "TS_Output_2024 <- map_dbl(model_forecasts_2024, \"mean\")\n",
    "TS_Output_2024 <- round(TS_Output_2024)\n",
    "\n",
    "\n",
    "# Format output for 2024\n",
    "# Data frame that contains the original location, lat, and lng columns,\n",
    "# % of EV traffic for 2022 and % of EV traffic for predicted 2024\n",
    "\n",
    "head(TS_Output_2024)\n",
    "\n",
    "# % of EV vehicle multiplier for 2022\n",
    "mulitplier_2022 = .03\n",
    "\n",
    "# % of EV Vehicle multiplier for predicted year \n",
    "multiplier_predicted = .0533\n",
    "\n",
    "TS_Output_df = data.frame(TS_Input$address,TS_Input$lat,TS_Input$lng, TS_Input$NearbyTraffic_2022,TS_Output_2024)\n",
    "#head(TS_Output_df)\n",
    "\n",
    "# Apply % of EV Vehicle multiplier to 2022 and predicted year 2024, present a new columns to Df\n",
    "traffic_2022 <- data.frame(TS_Output_df$TS_Input.NearbyTraffic_2022)\n",
    "traffic_2024 <-data.frame(TS_Output_df$TS_Output_2024)\n",
    "\n",
    "TS_Output_df$EV_nearbyTraffic_2022 <- apply(traffic_2022, 1, function(x) round(x * mulitplier_2022))\n",
    "TS_Output_df$EV_nearbyTraffic_2024 <- apply(traffic_2024, 1, function(x) round(x * multiplier_predicted))\n",
    "\n",
    "\n",
    "# Final Output\n",
    "head(TS_Output_df)"
   ]
  },
  {
   "cell_type": "code",
   "execution_count": null,
   "metadata": {
    "vscode": {
     "languageId": "r"
    }
   },
   "outputs": [],
   "source": [
    "# Model 2 - SVM\n",
    "\n",
    "library(dplyr)\n",
    "library(FNN)  # For nearest neighbor calculations\n",
    "\n",
    "# Read data\n",
    "parking_data <- read.csv(\"GreenPParking.csv\")\n",
    "business_data <- read.csv(\"business.csv\")\n",
    "\n",
    "K <- 8  # Number of nearest businesses to consider\n",
    "\n",
    "for (i in 1:nrow(parking_data)) {\n",
    "    parking_spot <- parking_data[i, c(\"lat\", \"lng\")]  # Coordinates of the parking spot\n",
    "    nearest_biz_indices <- get.knnx(business_data[, c(\"lat\", \"long\")], parking_spot, k = K, algorithm = \"kd_tree\")$nn.index\n",
    "    nearest_biz_distances <- get.knnx(business_data[, c(\"lat\", \"long\")], parking_spot, k = K, algorithm = \"kd_tree\")$nn.dist\n",
    "    \n",
    "    # Calculate the number of nearest businesses and their distances\n",
    "    num_nearest_biz <- length(nearest_biz_indices)\n",
    "    avg_distance <- mean(nearest_biz_distances)\n",
    "    \n",
    "    nearest_biz_customers <- sapply(nearest_biz_indices, function(idx) {\n",
    "  mean(business_data[idx, \"qCustomer\"])\n",
    "})\n",
    "    nearest_biz_time_spent <- sapply(nearest_biz_indices, function(idx) {\n",
    "  mean(business_data[idx, \"tCustomer\"])\n",
    "})\n",
    "\n",
    "    overall_mean_customers <- mean(nearest_biz_customers)\n",
    "    overall_mean_time_spent <- mean(nearest_biz_time_spent)\n",
    "\n",
    "\n",
    "    # Add the results to the parking_data dataframe\n",
    "    parking_data[i, paste0(\"nearest_biz_count_\", K)] <- num_nearest_biz\n",
    "    parking_data[i, paste0(\"avg_distance_to_biz_\", K)] <- avg_distance\n",
    "    parking_data[i, paste0(\"avg_customers_nearby_\", K)] <- mean(overall_mean_customers)\n",
    "    parking_data[i, paste0(\"avg_time_spent_nearby_\", K)] <- mean(overall_mean_time_spent)\n",
    "}\n",
    "\n",
    "# Add EV Traffic data\n",
    "parking_data$traffic_volume=TS_Output_df$EV_nearbyTraffic_2022\t\n",
    "\n",
    "parking_data <- parking_data %>%\n",
    "  group_by(address) %>%\n",
    "  summarise (distance = mean(avg_distance_to_biz_8), n_business = mean(nearest_biz_count_8),n_customers = mean(avg_customers_nearby_8), time_spent= mean(avg_time_spent_nearby_8), traffic_volume = traffic_volume, convert= mean(Convert)) \n",
    "\n",
    "# demand = 0.1\n",
    "# filtered_result_df3 <- filtered_result_df3 %>%\n",
    "#   mutate(biz_demand = demand*interaction_term)"
   ]
  },
  {
   "cell_type": "code",
   "execution_count": null,
   "metadata": {
    "vscode": {
     "languageId": "r"
    }
   },
   "outputs": [],
   "source": [
    "# # Normalize predictors\n",
    "parking_data$distance <- scale(parking_data$distance)\n",
    "parking_data$traffic_volume <- scale(parking_data$traffic_volume)\n",
    "# filtered_result_df3$interaction_term <- scale(filtered_result_df3$interaction_term)\n",
    "# filtered_result_df3$biz_demand<- scale(filtered_result_df3$biz_demand)\n",
    "parking_data$time_spent<- scale(parking_data$time_spent)\n",
    "# parking_data$n_business<- scale(parking_data$n_business)\n",
    "parking_data$n_customers<- scale(parking_data$n_customers)"
   ]
  },
  {
   "cell_type": "code",
   "execution_count": null,
   "metadata": {
    "vscode": {
     "languageId": "r"
    }
   },
   "outputs": [],
   "source": [
    "library(e1071)  # for svm\n",
    "\n",
    "set.seed(123)  # for reproducibility\n",
    "train_indices <- sample(1:nrow(filtered_result_df3), 0.7 * nrow(parking_data))  # 70% for training\n",
    "train_data <- parking_data[train_indices, ]\n",
    "test_data <- parking_data[-train_indices, ]\n",
    "\n",
    "# Create a formula including predictor columns\n",
    "formula <- as.formula(\"convert ~ distance + traffic_volume \")\n",
    "\n",
    "# Create the SVM model with the formula\n",
    "svm_model <- svm(formula, data = train_data, kernel = \"linear\")\n",
    "\n",
    "# Get the coefficients (weights) of the model\n",
    "weights <- coef(svm_model)#[[1]]\n",
    "\n"
   ]
  },
  {
   "cell_type": "code",
   "execution_count": 216,
   "metadata": {
    "vscode": {
     "languageId": "r"
    }
   },
   "outputs": [
    {
     "data": {
      "text/html": [
       "<table class=\"dataframe\">\n",
       "<caption>A tibble: 6 × 8</caption>\n",
       "<thead>\n",
       "\t<tr><th scope=col>address</th><th scope=col>distance</th><th scope=col>n_business</th><th scope=col>n_customers</th><th scope=col>time_spent</th><th scope=col>traffic_volume</th><th scope=col>convert</th><th scope=col>score</th></tr>\n",
       "\t<tr><th scope=col>&lt;chr&gt;</th><th scope=col>&lt;dbl[,1]&gt;</th><th scope=col>&lt;dbl&gt;</th><th scope=col>&lt;dbl[,1]&gt;</th><th scope=col>&lt;dbl[,1]&gt;</th><th scope=col>&lt;dbl[,1]&gt;</th><th scope=col>&lt;dbl&gt;</th><th scope=col>&lt;dbl&gt;</th></tr>\n",
       "</thead>\n",
       "<tbody>\n",
       "\t<tr><td>1 Brimley Road (Bluffer's Park)</td><td> 2.6014840</td><td>8</td><td>-0.7518021</td><td>-0.5965834</td><td> 5.5784382</td><td>0</td><td>-4.953064e-03</td></tr>\n",
       "\t<tr><td>1 Shortt Street                </td><td>-0.5157704</td><td>8</td><td> 1.5768680</td><td>-0.2924004</td><td>-0.5027482</td><td>0</td><td>-2.986566e-05</td></tr>\n",
       "\t<tr><td>10 Empress Avenue              </td><td> 0.8640640</td><td>8</td><td>-0.9750993</td><td> 1.8004656</td><td>-0.5952377</td><td>0</td><td>-1.627783e-04</td></tr>\n",
       "\t<tr><td>10 Harlandale Avenue           </td><td> 0.6937224</td><td>8</td><td>-0.9750993</td><td> 1.8004656</td><td>-0.3986975</td><td>0</td><td> 8.650913e-06</td></tr>\n",
       "\t<tr><td>10 Kingsdale Avenue            </td><td> 0.8854988</td><td>8</td><td>-0.9750993</td><td> 1.8004656</td><td>-0.5952377</td><td>0</td><td>-1.757574e-04</td></tr>\n",
       "\t<tr><td>100 Grangeway Avenue           </td><td> 2.8747180</td><td>8</td><td>-0.5285050</td><td>-0.4476033</td><td> 0.4683918</td><td>0</td><td> 9.802883e-05</td></tr>\n",
       "</tbody>\n",
       "</table>\n"
      ],
      "text/latex": [
       "A tibble: 6 × 8\n",
       "\\begin{tabular}{llllllll}\n",
       " address & distance & n\\_business & n\\_customers & time\\_spent & traffic\\_volume & convert & score\\\\\n",
       " <chr> & <dbl{[},1{]}> & <dbl> & <dbl{[},1{]}> & <dbl{[},1{]}> & <dbl{[},1{]}> & <dbl> & <dbl>\\\\\n",
       "\\hline\n",
       "\t 1 Brimley Road (Bluffer's Park) &  2.6014840 & 8 & -0.7518021 & -0.5965834 &  5.5784382 & 0 & -4.953064e-03\\\\\n",
       "\t 1 Shortt Street                 & -0.5157704 & 8 &  1.5768680 & -0.2924004 & -0.5027482 & 0 & -2.986566e-05\\\\\n",
       "\t 10 Empress Avenue               &  0.8640640 & 8 & -0.9750993 &  1.8004656 & -0.5952377 & 0 & -1.627783e-04\\\\\n",
       "\t 10 Harlandale Avenue            &  0.6937224 & 8 & -0.9750993 &  1.8004656 & -0.3986975 & 0 &  8.650913e-06\\\\\n",
       "\t 10 Kingsdale Avenue             &  0.8854988 & 8 & -0.9750993 &  1.8004656 & -0.5952377 & 0 & -1.757574e-04\\\\\n",
       "\t 100 Grangeway Avenue            &  2.8747180 & 8 & -0.5285050 & -0.4476033 &  0.4683918 & 0 &  9.802883e-05\\\\\n",
       "\\end{tabular}\n"
      ],
      "text/markdown": [
       "\n",
       "A tibble: 6 × 8\n",
       "\n",
       "| address &lt;chr&gt; | distance &lt;dbl[,1]&gt; | n_business &lt;dbl&gt; | n_customers &lt;dbl[,1]&gt; | time_spent &lt;dbl[,1]&gt; | traffic_volume &lt;dbl[,1]&gt; | convert &lt;dbl&gt; | score &lt;dbl&gt; |\n",
       "|---|---|---|---|---|---|---|---|\n",
       "| 1 Brimley Road (Bluffer's Park) |  2.6014840 | 8 | -0.7518021 | -0.5965834 |  5.5784382 | 0 | -4.953064e-03 |\n",
       "| 1 Shortt Street                 | -0.5157704 | 8 |  1.5768680 | -0.2924004 | -0.5027482 | 0 | -2.986566e-05 |\n",
       "| 10 Empress Avenue               |  0.8640640 | 8 | -0.9750993 |  1.8004656 | -0.5952377 | 0 | -1.627783e-04 |\n",
       "| 10 Harlandale Avenue            |  0.6937224 | 8 | -0.9750993 |  1.8004656 | -0.3986975 | 0 |  8.650913e-06 |\n",
       "| 10 Kingsdale Avenue             |  0.8854988 | 8 | -0.9750993 |  1.8004656 | -0.5952377 | 0 | -1.757574e-04 |\n",
       "| 100 Grangeway Avenue            |  2.8747180 | 8 | -0.5285050 | -0.4476033 |  0.4683918 | 0 |  9.802883e-05 |\n",
       "\n"
      ],
      "text/plain": [
       "  address                         distance   n_business n_customers time_spent\n",
       "1 1 Brimley Road (Bluffer's Park)  2.6014840 8          -0.7518021  -0.5965834\n",
       "2 1 Shortt Street                 -0.5157704 8           1.5768680  -0.2924004\n",
       "3 10 Empress Avenue                0.8640640 8          -0.9750993   1.8004656\n",
       "4 10 Harlandale Avenue             0.6937224 8          -0.9750993   1.8004656\n",
       "5 10 Kingsdale Avenue              0.8854988 8          -0.9750993   1.8004656\n",
       "6 100 Grangeway Avenue             2.8747180 8          -0.5285050  -0.4476033\n",
       "  traffic_volume convert score        \n",
       "1  5.5784382     0       -4.953064e-03\n",
       "2 -0.5027482     0       -2.986566e-05\n",
       "3 -0.5952377     0       -1.627783e-04\n",
       "4 -0.3986975     0        8.650913e-06\n",
       "5 -0.5952377     0       -1.757574e-04\n",
       "6  0.4683918     0        9.802883e-05"
      ]
     },
     "metadata": {},
     "output_type": "display_data"
    }
   ],
   "source": [
    "# Coefficients from the SVM model\n",
    "coefficients <- coef(svm_model)[-1]  # Exclude the intercept\n",
    "\n",
    "# Select the columns for which to calculate the score\n",
    "cols <- c(\"distance\", \"traffic_volume\")\n",
    "\n",
    "# Calculate the score for each row\n",
    "parking_data$score <- rowSums(parking_data[cols] * coefficients)\n",
    "\n",
    "# View the results\n",
    "head(parking_data)\n"
   ]
  },
  {
   "cell_type": "code",
   "execution_count": 217,
   "metadata": {
    "vscode": {
     "languageId": "r"
    }
   },
   "outputs": [
    {
     "data": {
      "text/html": [
       "<table class=\"dataframe\">\n",
       "<caption>A tibble: 12 × 8</caption>\n",
       "<thead>\n",
       "\t<tr><th scope=col>address</th><th scope=col>distance</th><th scope=col>n_business</th><th scope=col>n_customers</th><th scope=col>time_spent</th><th scope=col>traffic_volume</th><th scope=col>convert</th><th scope=col>score</th></tr>\n",
       "\t<tr><th scope=col>&lt;chr&gt;</th><th scope=col>&lt;dbl[,1]&gt;</th><th scope=col>&lt;dbl&gt;</th><th scope=col>&lt;dbl[,1]&gt;</th><th scope=col>&lt;dbl[,1]&gt;</th><th scope=col>&lt;dbl[,1]&gt;</th><th scope=col>&lt;dbl&gt;</th><th scope=col>&lt;dbl&gt;</th></tr>\n",
       "</thead>\n",
       "<tbody>\n",
       "\t<tr><td>34 Hanna Avenue                        </td><td>-1.0346215</td><td>8</td><td>0.9388762</td><td>-1.04234472</td><td>-1.1501749</td><td>0</td><td>0.001322926</td></tr>\n",
       "\t<tr><td>1155 King Street West                  </td><td>-1.0532615</td><td>8</td><td>1.6087676</td><td>-1.27027712</td><td>-1.1270525</td><td>0</td><td>0.001320212</td></tr>\n",
       "\t<tr><td>11 Kenwood Avenue                      </td><td>-1.0008281</td><td>8</td><td>0.1413864</td><td> 0.89949268</td><td>-1.1732973</td><td>0</td><td>0.001316465</td></tr>\n",
       "\t<tr><td>300 Remembrance Drive                  </td><td>-0.8817283</td><td>8</td><td>0.6517799</td><td> 0.66271405</td><td>-1.0114406</td><td>0</td><td>0.001146342</td></tr>\n",
       "\t<tr><td>745 Ossington Avenue, 16 Carling Avenue</td><td>-1.1404472</td><td>8</td><td>0.7474786</td><td>-0.41833177</td><td>-0.7455332</td><td>0</td><td>0.001141989</td></tr>\n",
       "\t<tr><td>9 Salem Avenue                         </td><td>-1.1605139</td><td>8</td><td>0.6198803</td><td> 0.66847008</td><td>-0.7108496</td><td>0</td><td>0.001133138</td></tr>\n",
       "\t<tr><td>18 Ossington Avenue                    </td><td>-1.1443049</td><td>8</td><td>0.3327840</td><td> 0.04912894</td><td>-0.6992884</td><td>0</td><td>0.001116323</td></tr>\n",
       "\t<tr><td>789 St. Clair Avenue West              </td><td>-0.9164157</td><td>8</td><td>0.4922819</td><td> 1.35045623</td><td>-0.8727063</td><td>0</td><td>0.001083340</td></tr>\n",
       "\t<tr><td>545 Lake Shore Boulevard West          </td><td>-0.8845014</td><td>8</td><td>0.7155791</td><td>-0.09504839</td><td>-0.8611451</td><td>0</td><td>0.001057015</td></tr>\n",
       "\t<tr><td>800 Fleet Street                       </td><td>-0.9713289</td><td>8</td><td>0.6517799</td><td> 0.66271405</td><td>-0.7108496</td><td>0</td><td>0.001018584</td></tr>\n",
       "\t<tr><td>912 Eglinton Avenue West               </td><td>-0.5995228</td><td>8</td><td>0.5241815</td><td> 1.67791285</td><td>-1.0692466</td><td>0</td><td>0.001010464</td></tr>\n",
       "\t<tr><td>105 Spadina Avenue                     </td><td>-1.0601426</td><td>8</td><td>1.1940729</td><td> 0.12335138</td><td>-0.5952377</td><td>0</td><td>0.001002357</td></tr>\n",
       "</tbody>\n",
       "</table>\n"
      ],
      "text/latex": [
       "A tibble: 12 × 8\n",
       "\\begin{tabular}{llllllll}\n",
       " address & distance & n\\_business & n\\_customers & time\\_spent & traffic\\_volume & convert & score\\\\\n",
       " <chr> & <dbl{[},1{]}> & <dbl> & <dbl{[},1{]}> & <dbl{[},1{]}> & <dbl{[},1{]}> & <dbl> & <dbl>\\\\\n",
       "\\hline\n",
       "\t 34 Hanna Avenue                         & -1.0346215 & 8 & 0.9388762 & -1.04234472 & -1.1501749 & 0 & 0.001322926\\\\\n",
       "\t 1155 King Street West                   & -1.0532615 & 8 & 1.6087676 & -1.27027712 & -1.1270525 & 0 & 0.001320212\\\\\n",
       "\t 11 Kenwood Avenue                       & -1.0008281 & 8 & 0.1413864 &  0.89949268 & -1.1732973 & 0 & 0.001316465\\\\\n",
       "\t 300 Remembrance Drive                   & -0.8817283 & 8 & 0.6517799 &  0.66271405 & -1.0114406 & 0 & 0.001146342\\\\\n",
       "\t 745 Ossington Avenue, 16 Carling Avenue & -1.1404472 & 8 & 0.7474786 & -0.41833177 & -0.7455332 & 0 & 0.001141989\\\\\n",
       "\t 9 Salem Avenue                          & -1.1605139 & 8 & 0.6198803 &  0.66847008 & -0.7108496 & 0 & 0.001133138\\\\\n",
       "\t 18 Ossington Avenue                     & -1.1443049 & 8 & 0.3327840 &  0.04912894 & -0.6992884 & 0 & 0.001116323\\\\\n",
       "\t 789 St. Clair Avenue West               & -0.9164157 & 8 & 0.4922819 &  1.35045623 & -0.8727063 & 0 & 0.001083340\\\\\n",
       "\t 545 Lake Shore Boulevard West           & -0.8845014 & 8 & 0.7155791 & -0.09504839 & -0.8611451 & 0 & 0.001057015\\\\\n",
       "\t 800 Fleet Street                        & -0.9713289 & 8 & 0.6517799 &  0.66271405 & -0.7108496 & 0 & 0.001018584\\\\\n",
       "\t 912 Eglinton Avenue West                & -0.5995228 & 8 & 0.5241815 &  1.67791285 & -1.0692466 & 0 & 0.001010464\\\\\n",
       "\t 105 Spadina Avenue                      & -1.0601426 & 8 & 1.1940729 &  0.12335138 & -0.5952377 & 0 & 0.001002357\\\\\n",
       "\\end{tabular}\n"
      ],
      "text/markdown": [
       "\n",
       "A tibble: 12 × 8\n",
       "\n",
       "| address &lt;chr&gt; | distance &lt;dbl[,1]&gt; | n_business &lt;dbl&gt; | n_customers &lt;dbl[,1]&gt; | time_spent &lt;dbl[,1]&gt; | traffic_volume &lt;dbl[,1]&gt; | convert &lt;dbl&gt; | score &lt;dbl&gt; |\n",
       "|---|---|---|---|---|---|---|---|\n",
       "| 34 Hanna Avenue                         | -1.0346215 | 8 | 0.9388762 | -1.04234472 | -1.1501749 | 0 | 0.001322926 |\n",
       "| 1155 King Street West                   | -1.0532615 | 8 | 1.6087676 | -1.27027712 | -1.1270525 | 0 | 0.001320212 |\n",
       "| 11 Kenwood Avenue                       | -1.0008281 | 8 | 0.1413864 |  0.89949268 | -1.1732973 | 0 | 0.001316465 |\n",
       "| 300 Remembrance Drive                   | -0.8817283 | 8 | 0.6517799 |  0.66271405 | -1.0114406 | 0 | 0.001146342 |\n",
       "| 745 Ossington Avenue, 16 Carling Avenue | -1.1404472 | 8 | 0.7474786 | -0.41833177 | -0.7455332 | 0 | 0.001141989 |\n",
       "| 9 Salem Avenue                          | -1.1605139 | 8 | 0.6198803 |  0.66847008 | -0.7108496 | 0 | 0.001133138 |\n",
       "| 18 Ossington Avenue                     | -1.1443049 | 8 | 0.3327840 |  0.04912894 | -0.6992884 | 0 | 0.001116323 |\n",
       "| 789 St. Clair Avenue West               | -0.9164157 | 8 | 0.4922819 |  1.35045623 | -0.8727063 | 0 | 0.001083340 |\n",
       "| 545 Lake Shore Boulevard West           | -0.8845014 | 8 | 0.7155791 | -0.09504839 | -0.8611451 | 0 | 0.001057015 |\n",
       "| 800 Fleet Street                        | -0.9713289 | 8 | 0.6517799 |  0.66271405 | -0.7108496 | 0 | 0.001018584 |\n",
       "| 912 Eglinton Avenue West                | -0.5995228 | 8 | 0.5241815 |  1.67791285 | -1.0692466 | 0 | 0.001010464 |\n",
       "| 105 Spadina Avenue                      | -1.0601426 | 8 | 1.1940729 |  0.12335138 | -0.5952377 | 0 | 0.001002357 |\n",
       "\n"
      ],
      "text/plain": [
       "   address                                 distance   n_business n_customers\n",
       "1  34 Hanna Avenue                         -1.0346215 8          0.9388762  \n",
       "2  1155 King Street West                   -1.0532615 8          1.6087676  \n",
       "3  11 Kenwood Avenue                       -1.0008281 8          0.1413864  \n",
       "4  300 Remembrance Drive                   -0.8817283 8          0.6517799  \n",
       "5  745 Ossington Avenue, 16 Carling Avenue -1.1404472 8          0.7474786  \n",
       "6  9 Salem Avenue                          -1.1605139 8          0.6198803  \n",
       "7  18 Ossington Avenue                     -1.1443049 8          0.3327840  \n",
       "8  789 St. Clair Avenue West               -0.9164157 8          0.4922819  \n",
       "9  545 Lake Shore Boulevard West           -0.8845014 8          0.7155791  \n",
       "10 800 Fleet Street                        -0.9713289 8          0.6517799  \n",
       "11 912 Eglinton Avenue West                -0.5995228 8          0.5241815  \n",
       "12 105 Spadina Avenue                      -1.0601426 8          1.1940729  \n",
       "   time_spent  traffic_volume convert score      \n",
       "1  -1.04234472 -1.1501749     0       0.001322926\n",
       "2  -1.27027712 -1.1270525     0       0.001320212\n",
       "3   0.89949268 -1.1732973     0       0.001316465\n",
       "4   0.66271405 -1.0114406     0       0.001146342\n",
       "5  -0.41833177 -0.7455332     0       0.001141989\n",
       "6   0.66847008 -0.7108496     0       0.001133138\n",
       "7   0.04912894 -0.6992884     0       0.001116323\n",
       "8   1.35045623 -0.8727063     0       0.001083340\n",
       "9  -0.09504839 -0.8611451     0       0.001057015\n",
       "10  0.66271405 -0.7108496     0       0.001018584\n",
       "11  1.67791285 -1.0692466     0       0.001010464\n",
       "12  0.12335138 -0.5952377     0       0.001002357"
      ]
     },
     "metadata": {},
     "output_type": "display_data"
    }
   ],
   "source": [
    "library(dplyr)\n",
    "\n",
    "# Sort the rows in descending order according to the score\n",
    "sorted_result <- parking_data %>%\n",
    "  arrange(desc(score))\n",
    "\n",
    "# View the sorted result\n",
    "head(sorted_result,12)\n"
   ]
  },
  {
   "cell_type": "code",
   "execution_count": 253,
   "metadata": {
    "vscode": {
     "languageId": "r"
    }
   },
   "outputs": [],
   "source": [
    "\n",
    "# # Plot selected rows on map\n",
    "# map_df <- selected_rows %>%\n",
    "#   st_as_sf() %>%\n",
    "#   st_set_crs(4326) %>%\n",
    "#   fortify()   # Convert the 'sf' object to a format suitable for use with 'ggplot2'\n",
    "\n",
    "# # Display the spatial object using 'mapview'\n",
    "# mapview(map_df)\n",
    "\n",
    "\n"
   ]
  },
  {
   "cell_type": "code",
   "execution_count": 254,
   "metadata": {
    "vscode": {
     "languageId": "r"
    }
   },
   "outputs": [],
   "source": [
    "# write.csv(selected_rows, \"Parking.csv\", row.names = FALSE)\n"
   ]
  },
  {
   "cell_type": "code",
   "execution_count": 255,
   "metadata": {
    "vscode": {
     "languageId": "r"
    }
   },
   "outputs": [],
   "source": [
    "# # Add lat, lng and remove geometry column\n",
    "# selected_rows1<-selected_rows\n",
    "# coords <- st_coordinates(selected_rows1$geometry)\n",
    "# selected_rows1 <- cbind(selected_rows1, lng = coords[, \"X\"], lat = coords[, \"Y\"])\n",
    "# parking_data <- st_drop_geometry(selected_rows1)\n",
    "# write.csv(parking_data, \"Parking_data.csv\", row.names = FALSE)\n"
   ]
  },
  {
   "cell_type": "code",
   "execution_count": 256,
   "metadata": {
    "vscode": {
     "languageId": "r"
    }
   },
   "outputs": [],
   "source": [
    "# Get Data - Intersection\n",
    "# output Data Description:\n"
   ]
  },
  {
   "cell_type": "code",
   "execution_count": 257,
   "metadata": {
    "vscode": {
     "languageId": "r"
    }
   },
   "outputs": [],
   "source": [
    "# Get Data - Business\n",
    "# output Data Description: "
   ]
  },
  {
   "cell_type": "code",
   "execution_count": 258,
   "metadata": {
    "vscode": {
     "languageId": "r"
    }
   },
   "outputs": [],
   "source": [
    "# Define Region of Interest - Boundary\n",
    "## coordinates manually looked up from location dataset\n",
    "# 1406\t5370\tDUPONT ST AT OSSINGTON AVE (PX 842)\t-79.429019\t43.670031996501194\n",
    "# 251\t4180\tDUPONT ST AT SPADINA RD (PX 840)\t-79.407122\t43.67485699954096\n",
    "# 1885\t5864\tCOLLEGE ST AT OSSINGTON AVE (PX 829)\t-79.422705\t43.65439999619167\n",
    "# 241\t4170\tCOLLEGE ST AT SPADINA AVE (PX 279)\t-79.400048\t43.65794800150128\n",
    "\n",
    "# Input\n",
    "# Output\n",
    "\n",
    "boundary <- location %>%\n",
    "  select(location_id, location, lng, lat) %>%\n",
    "  filter(location_id %in% list(5370, 4180, 5864, 4170)) # boundary intersection ID\n",
    "\n",
    "lng_min <- min(boundary$lng) # west most value since it's negative\n",
    "lng_max <- max(boundary$lng) # east most value\n",
    "lat_min <- min(boundary$lat) # south most value\n",
    "lat_max <- max(boundary$lat) # north most value\n"
   ]
  },
  {
   "cell_type": "code",
   "execution_count": 259,
   "metadata": {
    "vscode": {
     "languageId": "r"
    }
   },
   "outputs": [],
   "source": []
  },
  {
   "cell_type": "code",
   "execution_count": 260,
   "metadata": {
    "vscode": {
     "languageId": "r"
    }
   },
   "outputs": [],
   "source": [
    "#write.csv(TS_Input, \"TS_Input.csv\", row.names = FALSE)\n"
   ]
  },
  {
   "cell_type": "code",
   "execution_count": 261,
   "metadata": {
    "vscode": {
     "languageId": "r"
    }
   },
   "outputs": [],
   "source": [
    "# # Convert the data frame 'TS_Input' to an 'sf' object, specifying the columns containing longitude and latitude as coordinates, and set the CRS\n",
    "# TS_Input_sf <- st_as_sf(TS_Input, coords = c(\"lng\", \"lat\"), crs = 4326)\n",
    "\n",
    "# # Find the indices of the rows in 'data_sf' that fall within the polygon\n",
    "# t_indices <- st_within(TS_Input_sf, polygon)\n",
    "\n",
    "# # Convert the indices to a data frame\n",
    "# t_indices_df<-data.frame(t_indices)\n",
    "\n",
    "# t_selected_rows <- TS_Input_sf[match(t_indices_df$row.id, seq_len(nrow(TS_Input))), ]"
   ]
  },
  {
   "cell_type": "code",
   "execution_count": 262,
   "metadata": {
    "vscode": {
     "languageId": "r"
    }
   },
   "outputs": [],
   "source": [
    "# print(head(t_selected_rows))"
   ]
  },
  {
   "cell_type": "code",
   "execution_count": 263,
   "metadata": {
    "vscode": {
     "languageId": "r"
    }
   },
   "outputs": [
    {
     "data": {
      "text/html": [
       "<style>\n",
       ".list-inline {list-style: none; margin:0; padding: 0}\n",
       ".list-inline>li {display: inline-block}\n",
       ".list-inline>li:not(:last-child)::after {content: \"\\00b7\"; padding: 0 .5ex}\n",
       "</style>\n",
       "<ol class=list-inline><li>4539</li><li>5241</li><li>4657</li><li>2576</li><li>4717</li><li>5924</li></ol>\n"
      ],
      "text/latex": [
       "\\begin{enumerate*}\n",
       "\\item 4539\n",
       "\\item 5241\n",
       "\\item 4657\n",
       "\\item 2576\n",
       "\\item 4717\n",
       "\\item 5924\n",
       "\\end{enumerate*}\n"
      ],
      "text/markdown": [
       "1. 4539\n",
       "2. 5241\n",
       "3. 4657\n",
       "4. 2576\n",
       "5. 4717\n",
       "6. 5924\n",
       "\n",
       "\n"
      ],
      "text/plain": [
       "[1] 4539 5241 4657 2576 4717 5924"
      ]
     },
     "metadata": {},
     "output_type": "display_data"
    },
    {
     "data": {
      "text/html": [
       "<table class=\"dataframe\">\n",
       "<caption>A data.frame: 6 × 7</caption>\n",
       "<thead>\n",
       "\t<tr><th></th><th scope=col>TS_Input.address</th><th scope=col>TS_Input.lat</th><th scope=col>TS_Input.lng</th><th scope=col>TS_Input.NearbyTraffic_2022</th><th scope=col>TS_Output_2024</th><th scope=col>EV_nearbyTraffic_2022</th><th scope=col>EV_nearbyTraffic_2024</th></tr>\n",
       "\t<tr><th></th><th scope=col>&lt;chr&gt;</th><th scope=col>&lt;dbl&gt;</th><th scope=col>&lt;dbl&gt;</th><th scope=col>&lt;dbl&gt;</th><th scope=col>&lt;dbl&gt;</th><th scope=col>&lt;dbl&gt;</th><th scope=col>&lt;dbl&gt;</th></tr>\n",
       "</thead>\n",
       "<tbody>\n",
       "\t<tr><th scope=row>1</th><td>13 Isabella Street      </td><td>43.66758</td><td>-79.38471</td><td>4286.440</td><td>4539</td><td>129</td><td>242</td></tr>\n",
       "\t<tr><th scope=row>2</th><td>15 Wellesley Street East</td><td>43.66484</td><td>-79.38359</td><td>4408.740</td><td>5241</td><td>132</td><td>279</td></tr>\n",
       "\t<tr><th scope=row>3</th><td>30 Alvin Avenue         </td><td>43.68919</td><td>-79.39270</td><td>4058.117</td><td>4657</td><td>122</td><td>248</td></tr>\n",
       "\t<tr><th scope=row>4</th><td>716 Pape Avenue         </td><td>43.67971</td><td>-79.34538</td><td>4576.333</td><td>2576</td><td>137</td><td>137</td></tr>\n",
       "\t<tr><th scope=row>5</th><td>351 Keele Street        </td><td>43.66458</td><td>-79.46399</td><td>6034.167</td><td>4717</td><td>181</td><td>251</td></tr>\n",
       "\t<tr><th scope=row>6</th><td>385 Pacific Avenue      </td><td>43.66474</td><td>-79.46812</td><td>7425.817</td><td>5924</td><td>223</td><td>316</td></tr>\n",
       "</tbody>\n",
       "</table>\n"
      ],
      "text/latex": [
       "A data.frame: 6 × 7\n",
       "\\begin{tabular}{r|lllllll}\n",
       "  & TS\\_Input.address & TS\\_Input.lat & TS\\_Input.lng & TS\\_Input.NearbyTraffic\\_2022 & TS\\_Output\\_2024 & EV\\_nearbyTraffic\\_2022 & EV\\_nearbyTraffic\\_2024\\\\\n",
       "  & <chr> & <dbl> & <dbl> & <dbl> & <dbl> & <dbl> & <dbl>\\\\\n",
       "\\hline\n",
       "\t1 & 13 Isabella Street       & 43.66758 & -79.38471 & 4286.440 & 4539 & 129 & 242\\\\\n",
       "\t2 & 15 Wellesley Street East & 43.66484 & -79.38359 & 4408.740 & 5241 & 132 & 279\\\\\n",
       "\t3 & 30 Alvin Avenue          & 43.68919 & -79.39270 & 4058.117 & 4657 & 122 & 248\\\\\n",
       "\t4 & 716 Pape Avenue          & 43.67971 & -79.34538 & 4576.333 & 2576 & 137 & 137\\\\\n",
       "\t5 & 351 Keele Street         & 43.66458 & -79.46399 & 6034.167 & 4717 & 181 & 251\\\\\n",
       "\t6 & 385 Pacific Avenue       & 43.66474 & -79.46812 & 7425.817 & 5924 & 223 & 316\\\\\n",
       "\\end{tabular}\n"
      ],
      "text/markdown": [
       "\n",
       "A data.frame: 6 × 7\n",
       "\n",
       "| <!--/--> | TS_Input.address &lt;chr&gt; | TS_Input.lat &lt;dbl&gt; | TS_Input.lng &lt;dbl&gt; | TS_Input.NearbyTraffic_2022 &lt;dbl&gt; | TS_Output_2024 &lt;dbl&gt; | EV_nearbyTraffic_2022 &lt;dbl&gt; | EV_nearbyTraffic_2024 &lt;dbl&gt; |\n",
       "|---|---|---|---|---|---|---|---|\n",
       "| 1 | 13 Isabella Street       | 43.66758 | -79.38471 | 4286.440 | 4539 | 129 | 242 |\n",
       "| 2 | 15 Wellesley Street East | 43.66484 | -79.38359 | 4408.740 | 5241 | 132 | 279 |\n",
       "| 3 | 30 Alvin Avenue          | 43.68919 | -79.39270 | 4058.117 | 4657 | 122 | 248 |\n",
       "| 4 | 716 Pape Avenue          | 43.67971 | -79.34538 | 4576.333 | 2576 | 137 | 137 |\n",
       "| 5 | 351 Keele Street         | 43.66458 | -79.46399 | 6034.167 | 4717 | 181 | 251 |\n",
       "| 6 | 385 Pacific Avenue       | 43.66474 | -79.46812 | 7425.817 | 5924 | 223 | 316 |\n",
       "\n"
      ],
      "text/plain": [
       "  TS_Input.address         TS_Input.lat TS_Input.lng\n",
       "1 13 Isabella Street       43.66758     -79.38471   \n",
       "2 15 Wellesley Street East 43.66484     -79.38359   \n",
       "3 30 Alvin Avenue          43.68919     -79.39270   \n",
       "4 716 Pape Avenue          43.67971     -79.34538   \n",
       "5 351 Keele Street         43.66458     -79.46399   \n",
       "6 385 Pacific Avenue       43.66474     -79.46812   \n",
       "  TS_Input.NearbyTraffic_2022 TS_Output_2024 EV_nearbyTraffic_2022\n",
       "1 4286.440                    4539           129                  \n",
       "2 4408.740                    5241           132                  \n",
       "3 4058.117                    4657           122                  \n",
       "4 4576.333                    2576           137                  \n",
       "5 6034.167                    4717           181                  \n",
       "6 7425.817                    5924           223                  \n",
       "  EV_nearbyTraffic_2024\n",
       "1 242                  \n",
       "2 279                  \n",
       "3 248                  \n",
       "4 137                  \n",
       "5 251                  \n",
       "6 316                  "
      ]
     },
     "metadata": {},
     "output_type": "display_data"
    }
   ],
   "source": []
  },
  {
   "cell_type": "code",
   "execution_count": 264,
   "metadata": {
    "vscode": {
     "languageId": "r"
    }
   },
   "outputs": [],
   "source": []
  },
  {
   "cell_type": "code",
   "execution_count": 265,
   "metadata": {
    "vscode": {
     "languageId": "r"
    }
   },
   "outputs": [
    {
     "data": {
      "text/html": [
       "<table class=\"dataframe\">\n",
       "<caption>A data.frame: 6 × 9</caption>\n",
       "<thead>\n",
       "\t<tr><th></th><th scope=col>address</th><th scope=col>lat</th><th scope=col>lng</th><th scope=col>Convert</th><th scope=col>nearest_biz_count_8</th><th scope=col>avg_distance_to_biz_8</th><th scope=col>avg_customers_nearby_8</th><th scope=col>avg_time_spent_nearby_8</th><th scope=col>traffic_volume</th></tr>\n",
       "\t<tr><th></th><th scope=col>&lt;chr&gt;</th><th scope=col>&lt;dbl&gt;</th><th scope=col>&lt;dbl&gt;</th><th scope=col>&lt;int&gt;</th><th scope=col>&lt;int&gt;</th><th scope=col>&lt;dbl&gt;</th><th scope=col>&lt;dbl&gt;</th><th scope=col>&lt;dbl&gt;</th><th scope=col>&lt;dbl&gt;</th></tr>\n",
       "</thead>\n",
       "<tbody>\n",
       "\t<tr><th scope=row>1</th><td>13 Isabella Street      </td><td>43.66758</td><td>-79.38471</td><td>0</td><td>8</td><td>0.005030687</td><td>27.000</td><td>0.7047446</td><td>129</td></tr>\n",
       "\t<tr><th scope=row>2</th><td>15 Wellesley Street East</td><td>43.66484</td><td>-79.38359</td><td>0</td><td>8</td><td>0.004699575</td><td>21.750</td><td>0.7467130</td><td>132</td></tr>\n",
       "\t<tr><th scope=row>3</th><td>30 Alvin Avenue         </td><td>43.68919</td><td>-79.39270</td><td>0</td><td>8</td><td>0.012040063</td><td>24.625</td><td>1.1426329</td><td>122</td></tr>\n",
       "\t<tr><th scope=row>4</th><td>716 Pape Avenue         </td><td>43.67971</td><td>-79.34538</td><td>0</td><td>8</td><td>0.045221435</td><td>23.875</td><td>0.6687038</td><td>137</td></tr>\n",
       "\t<tr><th scope=row>5</th><td>351 Keele Street        </td><td>43.66458</td><td>-79.46399</td><td>0</td><td>8</td><td>0.021830170</td><td>32.250</td><td>0.7426011</td><td>181</td></tr>\n",
       "\t<tr><th scope=row>6</th><td>385 Pacific Avenue      </td><td>43.66474</td><td>-79.46812</td><td>0</td><td>8</td><td>0.025832027</td><td>32.250</td><td>0.7426011</td><td>223</td></tr>\n",
       "</tbody>\n",
       "</table>\n"
      ],
      "text/latex": [
       "A data.frame: 6 × 9\n",
       "\\begin{tabular}{r|lllllllll}\n",
       "  & address & lat & lng & Convert & nearest\\_biz\\_count\\_8 & avg\\_distance\\_to\\_biz\\_8 & avg\\_customers\\_nearby\\_8 & avg\\_time\\_spent\\_nearby\\_8 & traffic\\_volume\\\\\n",
       "  & <chr> & <dbl> & <dbl> & <int> & <int> & <dbl> & <dbl> & <dbl> & <dbl>\\\\\n",
       "\\hline\n",
       "\t1 & 13 Isabella Street       & 43.66758 & -79.38471 & 0 & 8 & 0.005030687 & 27.000 & 0.7047446 & 129\\\\\n",
       "\t2 & 15 Wellesley Street East & 43.66484 & -79.38359 & 0 & 8 & 0.004699575 & 21.750 & 0.7467130 & 132\\\\\n",
       "\t3 & 30 Alvin Avenue          & 43.68919 & -79.39270 & 0 & 8 & 0.012040063 & 24.625 & 1.1426329 & 122\\\\\n",
       "\t4 & 716 Pape Avenue          & 43.67971 & -79.34538 & 0 & 8 & 0.045221435 & 23.875 & 0.6687038 & 137\\\\\n",
       "\t5 & 351 Keele Street         & 43.66458 & -79.46399 & 0 & 8 & 0.021830170 & 32.250 & 0.7426011 & 181\\\\\n",
       "\t6 & 385 Pacific Avenue       & 43.66474 & -79.46812 & 0 & 8 & 0.025832027 & 32.250 & 0.7426011 & 223\\\\\n",
       "\\end{tabular}\n"
      ],
      "text/markdown": [
       "\n",
       "A data.frame: 6 × 9\n",
       "\n",
       "| <!--/--> | address &lt;chr&gt; | lat &lt;dbl&gt; | lng &lt;dbl&gt; | Convert &lt;int&gt; | nearest_biz_count_8 &lt;int&gt; | avg_distance_to_biz_8 &lt;dbl&gt; | avg_customers_nearby_8 &lt;dbl&gt; | avg_time_spent_nearby_8 &lt;dbl&gt; | traffic_volume &lt;dbl&gt; |\n",
       "|---|---|---|---|---|---|---|---|---|---|\n",
       "| 1 | 13 Isabella Street       | 43.66758 | -79.38471 | 0 | 8 | 0.005030687 | 27.000 | 0.7047446 | 129 |\n",
       "| 2 | 15 Wellesley Street East | 43.66484 | -79.38359 | 0 | 8 | 0.004699575 | 21.750 | 0.7467130 | 132 |\n",
       "| 3 | 30 Alvin Avenue          | 43.68919 | -79.39270 | 0 | 8 | 0.012040063 | 24.625 | 1.1426329 | 122 |\n",
       "| 4 | 716 Pape Avenue          | 43.67971 | -79.34538 | 0 | 8 | 0.045221435 | 23.875 | 0.6687038 | 137 |\n",
       "| 5 | 351 Keele Street         | 43.66458 | -79.46399 | 0 | 8 | 0.021830170 | 32.250 | 0.7426011 | 181 |\n",
       "| 6 | 385 Pacific Avenue       | 43.66474 | -79.46812 | 0 | 8 | 0.025832027 | 32.250 | 0.7426011 | 223 |\n",
       "\n"
      ],
      "text/plain": [
       "  address                  lat      lng       Convert nearest_biz_count_8\n",
       "1 13 Isabella Street       43.66758 -79.38471 0       8                  \n",
       "2 15 Wellesley Street East 43.66484 -79.38359 0       8                  \n",
       "3 30 Alvin Avenue          43.68919 -79.39270 0       8                  \n",
       "4 716 Pape Avenue          43.67971 -79.34538 0       8                  \n",
       "5 351 Keele Street         43.66458 -79.46399 0       8                  \n",
       "6 385 Pacific Avenue       43.66474 -79.46812 0       8                  \n",
       "  avg_distance_to_biz_8 avg_customers_nearby_8 avg_time_spent_nearby_8\n",
       "1 0.005030687           27.000                 0.7047446              \n",
       "2 0.004699575           21.750                 0.7467130              \n",
       "3 0.012040063           24.625                 1.1426329              \n",
       "4 0.045221435           23.875                 0.6687038              \n",
       "5 0.021830170           32.250                 0.7426011              \n",
       "6 0.025832027           32.250                 0.7426011              \n",
       "  traffic_volume\n",
       "1 129           \n",
       "2 132           \n",
       "3 122           \n",
       "4 137           \n",
       "5 181           \n",
       "6 223           "
      ]
     },
     "metadata": {},
     "output_type": "display_data"
    }
   ],
   "source": []
  },
  {
   "cell_type": "code",
   "execution_count": 266,
   "metadata": {
    "vscode": {
     "languageId": "r"
    }
   },
   "outputs": [],
   "source": [
    "# ################ SVM Model ######################\n",
    "# # Find nearest businesses to each parking spot. \n",
    "# # Merge GreenPParking, business and TS_Output_df. Result: Dataframe of address,\tlat, lng,\tConvert,\tnearest_business,\ttraffic_volume\n",
    "# # Make SVM model (with distance + time_spent + traffic_volume + interaction_term + n_business + biz_demand as predictors ) \n",
    "\n",
    "\n",
    "\n",
    "# # Read data\n",
    "# parking<-read.csv(\"GreenPParking.csv\")\n",
    "# business<-read.csv(\"business.csv\")\n",
    "\n",
    "# # Convert the business dataset to a spatial object\n",
    "# business_sf <- st_as_sf(business, coords = c(\"long\", \"lat\"), crs = 4326)\n",
    "\n",
    "# # Convert the parking dataset to a spatial object\n",
    "# parking_sf <- st_as_sf(parking, coords = c(\"lng\", \"lat\"), crs = 4326)\n",
    "\n",
    "# # Perform a spatial join to find the nearest business for each parking space\n",
    "# nearest_business <- st_nearest_feature(parking_sf, business_sf)\n",
    "# nearest_points <-st_nearest_points(parking_sf,business_sf)\n",
    "\n",
    "# # Add the nearest business information to the parking dataset\n",
    "# parking_data_with_nearest_business <- cbind(parking, nearest_business)\n",
    "# #parking_data_with_nearest_business$traffic_volume= sample(2:221,nrow(parking), replace=F)  # To be replaced with traffic data\n",
    "# parking_data_with_nearest_business$traffic_volume=TS_Output_df$EV_nearbyTraffic_2022\t\n",
    "\n",
    "\n",
    "# # Function to calculate angular distance between two points on Earth\n",
    "# haversine_distance <- function(lon1, lat1, lon2, lat2) {\n",
    "#   R <- 6371 # Earth radius in km\n",
    "\n",
    "#   dlat <- (lat2 - lat1) * pi / 180\n",
    "#   dlon <- (lon2 - lon1) * pi / 180\n",
    "#   a <- sin(dlat/2)^2 + cos(lat1 * pi / 180) * cos(lat2 * pi / 180) * sin(dlon/2)^2\n",
    "#   c <- 2 * atan2(sqrt(a), sqrt(1 - a))\n",
    "#   distance <- R * c\n",
    "#   return(distance) # Distance in km\n",
    "# }"
   ]
  },
  {
   "cell_type": "code",
   "execution_count": 267,
   "metadata": {
    "vscode": {
     "languageId": "r"
    }
   },
   "outputs": [],
   "source": [
    "# ## Calculate distance between each parking spot and each business\n",
    "\n",
    "# # Create an empty list to store the results\n",
    "# result_list <- list()\n",
    "\n",
    "# for (i in 1:nrow(parking_data)){\n",
    "  \n",
    "#   # Create a temporary data frame to store the results for this parking spot\n",
    "#   temp_df <- data.frame(\n",
    "#     address = character(),\n",
    "#     lat = double(),\n",
    "#     lng = double(),\n",
    "#     Convert = integer(),\n",
    "#     distance = double(),\n",
    "#     #capacity = integer(),\n",
    "#     traffic_volume = double(),\n",
    "#     #rate_half_hr= double(),\n",
    "#     n_business = double(),\n",
    "#     n_customers =double(),\n",
    "#     time_spent = double(),\n",
    "#     category = character(),\n",
    "#     Operating.name = character(),\n",
    "#     interaction_term = double()\n",
    "    \n",
    "# )\n",
    "  \n",
    "#   for( j in 1:nrow(business)){\n",
    "#     lon1 <- parking_data_with_nearest_business[i,\"lng\"]\n",
    "#     lat1 <- parking_data_with_nearest_business[i,\"lat\"]\n",
    "#     lon2 <- business[j, \"long\"]\n",
    "#     lat2 <- business[j, \"lat\"]\n",
    " \n",
    "\n",
    "#     # # Calculate distance\n",
    "#     # distance <- st_distance(st_point(c(lon1, lat1)), st_point(c(lon2, lat2)))\n",
    "    \n",
    "#     # Store the results in the temporary data frame\n",
    "#     temp_df[nrow(temp_df) + 1, ] <- list(\n",
    "#       address = parking_data_with_nearest_business[i,\"address\"],\n",
    "#       lat = parking_data_with_nearest_business[i,\"lat\"],\n",
    "#       lng = parking_data_with_nearest_business[i,\"lng\"],\n",
    "#       Convert = parking_data_with_nearest_business[i,\"Convert\"],\n",
    "#       distance = distance,\n",
    "#       #capacity = parking_data_with_nearest_business[i,\"capacity\"],\n",
    "#       traffic_volume = parking_data_with_nearest_business[i,\"traffic_volume\"],\n",
    "#       n_business = parking_data_with_nearest_business[i,\"nearest_business\"],\n",
    "#       #rate_half_hr = parking_data_with_nearest_business[i,\"rate_half_hr\"],\n",
    "#       n_customers = business[j,\"qCustomer\"],\n",
    "#       time_spent = business[j,\"tCustomer\"],\n",
    "#       category = business[j,\"Category\"],\n",
    "#       Operating.name = business[j,\"Operating.Name\"],\n",
    "#       interaction_term = business[j,\"qCustomer\"] * business[j,\"tCustomer\"]\n",
    "#       #Convert = ifelse(is.na(parking_data_with_nearest_business[i,\"Convert\"]), 0, parking_data_with_nearest_business[i,\"Convert\"])\n",
    "#     )\n",
    "#   }\n",
    "  \n",
    "#   # Append the temporary data frame to the result list\n",
    "#   result_list[[i]] <- temp_df\n",
    "# }\n",
    "\n",
    "# # Combine all the results into a single data frame\n",
    "# result_df <- do.call(rbind, result_list)\n",
    "\n"
   ]
  },
  {
   "cell_type": "code",
   "execution_count": 268,
   "metadata": {
    "vscode": {
     "languageId": "r"
    }
   },
   "outputs": [],
   "source": [
    "# filtered_result_df2 <- filter(result_df, result_df$distance <= 0.250)\n",
    "# filtered_result_df2 <- filtered_result_df2 %>%\n",
    "#   group_by(Operating.name) %>% \n",
    "#   slice(which.min(distance))\n",
    "\n"
   ]
  },
  {
   "cell_type": "code",
   "execution_count": 269,
   "metadata": {
    "vscode": {
     "languageId": "r"
    }
   },
   "outputs": [],
   "source": [
    "# head(filtered_result_df2)"
   ]
  },
  {
   "cell_type": "code",
   "execution_count": 270,
   "metadata": {
    "vscode": {
     "languageId": "r"
    }
   },
   "outputs": [],
   "source": [
    "# filtered_result_df3 <- parking_data %>%\n",
    "#   group_by(address) %>%\n",
    "#   summarise (distance = mean(avg_distance_to_biz_8, n_business =nearest_biz_count_8, nCustomer =avg_customers_nearby_8, traffic_volume = sum(traffic_volume), convert= mean(Convert)) \n",
    "\n",
    "# # demand = 0.1\n",
    "# # filtered_result_df3 <- filtered_result_df3 %>%\n",
    "# #   mutate(biz_demand = demand*interaction_term)"
   ]
  },
  {
   "cell_type": "code",
   "execution_count": 271,
   "metadata": {
    "vscode": {
     "languageId": "r"
    }
   },
   "outputs": [
    {
     "name": "stderr",
     "output_type": "stream",
     "text": [
      "Warning message:\n",
      "\"\u001b[1m\u001b[22mReturning more (or less) than 1 row per `summarise()` group was deprecated in\n",
      "dplyr 1.1.0.\n",
      "\u001b[36mℹ\u001b[39m Please use `reframe()` instead.\n",
      "\u001b[36mℹ\u001b[39m When switching from `summarise()` to `reframe()`, remember that `reframe()`\n",
      "  always returns an ungrouped data frame and adjust accordingly.\"\n",
      "\u001b[1m\u001b[22m`summarise()` has grouped output by 'address'. You can override using the\n",
      "`.groups` argument.\n"
     ]
    }
   ],
   "source": []
  },
  {
   "cell_type": "code",
   "execution_count": 134,
   "metadata": {
    "vscode": {
     "languageId": "r"
    }
   },
   "outputs": [],
   "source": [
    "# # # Normalize predictors\n",
    "# filtered_result_df3$distance <- scale(filtered_result_df3$distance)\n",
    "# filtered_result_df3$traffic_volume <- scale(filtered_result_df3$traffic_volume)\n",
    "# # filtered_result_df3$interaction_term <- scale(filtered_result_df3$interaction_term)\n",
    "# # filtered_result_df3$biz_demand<- scale(filtered_result_df3$biz_demand)\n",
    "# # filtered_result_df3$time_spent<- scale(filtered_result_df3$time_spent)\n",
    "# filtered_result_df3$n_business<- scale(filtered_result_df3$n_business)"
   ]
  },
  {
   "cell_type": "code",
   "execution_count": 188,
   "metadata": {
    "vscode": {
     "languageId": "r"
    }
   },
   "outputs": [],
   "source": []
  },
  {
   "cell_type": "code",
   "execution_count": 189,
   "metadata": {
    "vscode": {
     "languageId": "r"
    }
   },
   "outputs": [
    {
     "data": {
      "text/html": [
       "<table class=\"dataframe\">\n",
       "<caption>A tibble: 6 × 7</caption>\n",
       "<thead>\n",
       "\t<tr><th scope=col>address</th><th scope=col>distance</th><th scope=col>n_business</th><th scope=col>n_customers</th><th scope=col>time_spent</th><th scope=col>traffic_volume</th><th scope=col>convert</th></tr>\n",
       "\t<tr><th scope=col>&lt;chr&gt;</th><th scope=col>&lt;dbl[,1]&gt;</th><th scope=col>&lt;dbl&gt;</th><th scope=col>&lt;dbl[,1]&gt;</th><th scope=col>&lt;dbl[,1]&gt;</th><th scope=col>&lt;dbl[,1]&gt;</th><th scope=col>&lt;dbl&gt;</th></tr>\n",
       "</thead>\n",
       "<tbody>\n",
       "\t<tr><td>1 Brimley Road (Bluffer's Park)</td><td> 2.6014840</td><td>8</td><td>-0.7518021</td><td>-0.5965834</td><td> 5.5784382</td><td>0</td></tr>\n",
       "\t<tr><td>1 Shortt Street                </td><td>-0.5157704</td><td>8</td><td> 1.5768680</td><td>-0.2924004</td><td>-0.5027482</td><td>0</td></tr>\n",
       "\t<tr><td>10 Empress Avenue              </td><td> 0.8640640</td><td>8</td><td>-0.9750993</td><td> 1.8004656</td><td>-0.5952377</td><td>0</td></tr>\n",
       "\t<tr><td>10 Harlandale Avenue           </td><td> 0.6937224</td><td>8</td><td>-0.9750993</td><td> 1.8004656</td><td>-0.3986975</td><td>0</td></tr>\n",
       "\t<tr><td>10 Kingsdale Avenue            </td><td> 0.8854988</td><td>8</td><td>-0.9750993</td><td> 1.8004656</td><td>-0.5952377</td><td>0</td></tr>\n",
       "\t<tr><td>100 Grangeway Avenue           </td><td> 2.8747180</td><td>8</td><td>-0.5285050</td><td>-0.4476033</td><td> 0.4683918</td><td>0</td></tr>\n",
       "</tbody>\n",
       "</table>\n"
      ],
      "text/latex": [
       "A tibble: 6 × 7\n",
       "\\begin{tabular}{lllllll}\n",
       " address & distance & n\\_business & n\\_customers & time\\_spent & traffic\\_volume & convert\\\\\n",
       " <chr> & <dbl{[},1{]}> & <dbl> & <dbl{[},1{]}> & <dbl{[},1{]}> & <dbl{[},1{]}> & <dbl>\\\\\n",
       "\\hline\n",
       "\t 1 Brimley Road (Bluffer's Park) &  2.6014840 & 8 & -0.7518021 & -0.5965834 &  5.5784382 & 0\\\\\n",
       "\t 1 Shortt Street                 & -0.5157704 & 8 &  1.5768680 & -0.2924004 & -0.5027482 & 0\\\\\n",
       "\t 10 Empress Avenue               &  0.8640640 & 8 & -0.9750993 &  1.8004656 & -0.5952377 & 0\\\\\n",
       "\t 10 Harlandale Avenue            &  0.6937224 & 8 & -0.9750993 &  1.8004656 & -0.3986975 & 0\\\\\n",
       "\t 10 Kingsdale Avenue             &  0.8854988 & 8 & -0.9750993 &  1.8004656 & -0.5952377 & 0\\\\\n",
       "\t 100 Grangeway Avenue            &  2.8747180 & 8 & -0.5285050 & -0.4476033 &  0.4683918 & 0\\\\\n",
       "\\end{tabular}\n"
      ],
      "text/markdown": [
       "\n",
       "A tibble: 6 × 7\n",
       "\n",
       "| address &lt;chr&gt; | distance &lt;dbl[,1]&gt; | n_business &lt;dbl&gt; | n_customers &lt;dbl[,1]&gt; | time_spent &lt;dbl[,1]&gt; | traffic_volume &lt;dbl[,1]&gt; | convert &lt;dbl&gt; |\n",
       "|---|---|---|---|---|---|---|\n",
       "| 1 Brimley Road (Bluffer's Park) |  2.6014840 | 8 | -0.7518021 | -0.5965834 |  5.5784382 | 0 |\n",
       "| 1 Shortt Street                 | -0.5157704 | 8 |  1.5768680 | -0.2924004 | -0.5027482 | 0 |\n",
       "| 10 Empress Avenue               |  0.8640640 | 8 | -0.9750993 |  1.8004656 | -0.5952377 | 0 |\n",
       "| 10 Harlandale Avenue            |  0.6937224 | 8 | -0.9750993 |  1.8004656 | -0.3986975 | 0 |\n",
       "| 10 Kingsdale Avenue             |  0.8854988 | 8 | -0.9750993 |  1.8004656 | -0.5952377 | 0 |\n",
       "| 100 Grangeway Avenue            |  2.8747180 | 8 | -0.5285050 | -0.4476033 |  0.4683918 | 0 |\n",
       "\n"
      ],
      "text/plain": [
       "  address                         distance   n_business n_customers time_spent\n",
       "1 1 Brimley Road (Bluffer's Park)  2.6014840 8          -0.7518021  -0.5965834\n",
       "2 1 Shortt Street                 -0.5157704 8           1.5768680  -0.2924004\n",
       "3 10 Empress Avenue                0.8640640 8          -0.9750993   1.8004656\n",
       "4 10 Harlandale Avenue             0.6937224 8          -0.9750993   1.8004656\n",
       "5 10 Kingsdale Avenue              0.8854988 8          -0.9750993   1.8004656\n",
       "6 100 Grangeway Avenue             2.8747180 8          -0.5285050  -0.4476033\n",
       "  traffic_volume convert\n",
       "1  5.5784382     0      \n",
       "2 -0.5027482     0      \n",
       "3 -0.5952377     0      \n",
       "4 -0.3986975     0      \n",
       "5 -0.5952377     0      \n",
       "6  0.4683918     0      "
      ]
     },
     "metadata": {},
     "output_type": "display_data"
    }
   ],
   "source": [
    "head(parking_data)"
   ]
  },
  {
   "cell_type": "code",
   "execution_count": 214,
   "metadata": {
    "vscode": {
     "languageId": "r"
    }
   },
   "outputs": [],
   "source": []
  },
  {
   "cell_type": "code",
   "execution_count": 215,
   "metadata": {
    "vscode": {
     "languageId": "r"
    }
   },
   "outputs": [
    {
     "name": "stdout",
     "output_type": "stream",
     "text": [
      "   (Intercept)       distance traffic_volume \n",
      " -9.789742e-02  -6.055148e-04   2.932265e-05 \n"
     ]
    }
   ],
   "source": [
    "print(weights)"
   ]
  },
  {
   "cell_type": "code",
   "execution_count": 204,
   "metadata": {
    "vscode": {
     "languageId": "r"
    }
   },
   "outputs": [
    {
     "data": {
      "text/html": [
       "<style>\n",
       ".dl-inline {width: auto; margin:0; padding: 0}\n",
       ".dl-inline>dt, .dl-inline>dd {float: none; width: auto; display: inline-block}\n",
       ".dl-inline>dt::after {content: \":\\0020\"; padding-right: .5ex}\n",
       ".dl-inline>dt:not(:first-of-type) {padding-left: .5ex}\n",
       "</style><dl class=dl-inline><dt>(Intercept)</dt><dd>0.0997007893744171</dd><dt>distance</dt><dd>-0.000373540978296338</dd><dt>n_business</dt><dd>0</dd><dt>n_customers</dt><dd>-5.6289911127605e-05</dd><dt>time_spent</dt><dd>-8.54412729273113e-06</dd><dt>traffic_volume</dt><dd>8.97918134112885e-05</dd></dl>\n"
      ],
      "text/latex": [
       "\\begin{description*}\n",
       "\\item[(Intercept)] 0.0997007893744171\n",
       "\\item[distance] -0.000373540978296338\n",
       "\\item[n\\textbackslash{}\\_business] 0\n",
       "\\item[n\\textbackslash{}\\_customers] -5.6289911127605e-05\n",
       "\\item[time\\textbackslash{}\\_spent] -8.54412729273113e-06\n",
       "\\item[traffic\\textbackslash{}\\_volume] 8.97918134112885e-05\n",
       "\\end{description*}\n"
      ],
      "text/markdown": [
       "(Intercept)\n",
       ":   0.0997007893744171distance\n",
       ":   -0.000373540978296338n_business\n",
       ":   0n_customers\n",
       ":   -5.6289911127605e-05time_spent\n",
       ":   -8.54412729273113e-06traffic_volume\n",
       ":   8.97918134112885e-05\n",
       "\n"
      ],
      "text/plain": [
       "   (Intercept)       distance     n_business    n_customers     time_spent \n",
       "  9.970079e-02  -3.735410e-04   0.000000e+00  -5.628991e-05  -8.544127e-06 \n",
       "traffic_volume \n",
       "  8.979181e-05 "
      ]
     },
     "metadata": {},
     "output_type": "display_data"
    }
   ],
   "source": [
    "coef(svm_model)"
   ]
  },
  {
   "cell_type": "code",
   "execution_count": 74,
   "metadata": {
    "vscode": {
     "languageId": "r"
    }
   },
   "outputs": [],
   "source": [
    "# library(dplyr)\n",
    "\n",
    "# # Get the rows with the 12 highest scores\n",
    "# top_12_rows <- filtered_result_df3 %>%\n",
    "#   top_n(12, score)\n",
    "\n",
    "# # View the top 12 rows\n",
    "# top_12_rows\n"
   ]
  },
  {
   "cell_type": "code",
   "execution_count": 75,
   "metadata": {
    "vscode": {
     "languageId": "r"
    }
   },
   "outputs": [],
   "source": [
    "\n",
    "# data <- filtered_result_df3[, c(\"distance\", \"traffic_volume\", \"biz_demand\", \"convert\")]\n",
    "# set.seed(123)  # for reproducibility\n",
    "# train_indices <- sample(1:nrow(data), 0.7 * nrow(data))  # 70% for training\n",
    "# train_data <- data[train_indices, ]\n",
    "# test_data <- data[-train_indices, ]\n",
    "# library(e1071)  # for svm\n",
    "# svm_model <- svm(convert ~ ., data = train_data, kernel = \"linear\")\n",
    "# predictions <- predict(svm_model, newdata = test_data)\n",
    "# accuracy <- mean(predictions == test_data$convert)\n",
    "# print(accuracy)"
   ]
  },
  {
   "cell_type": "code",
   "execution_count": null,
   "metadata": {
    "vscode": {
     "languageId": "r"
    }
   },
   "outputs": [],
   "source": [
    "# ## Calculate distance between each parking spot and each business\n",
    "# suppressWarnings({\n",
    "\n",
    "# ## Calculate distance between each parking spot and each business\n",
    "\n",
    "# # Create an empty list to store the results\n",
    "# result_list <- list()\n",
    "\n",
    "# for (i in 1:nrow(parking_data_with_nearest_business)){\n",
    "  \n",
    "#   # Create a temporary data frame to store the results for this parking spot\n",
    "#   temp_df <- data.frame(\n",
    "#     address = character(),\n",
    "#     lat = double(),\n",
    "#     lng = double(),\n",
    "#     distance = double(),\n",
    "#     #capacity = integer(),\n",
    "#     traffic_volume = integer(),\n",
    "#     #rate_half_hr= double(),\n",
    "#     #n_business = integer(),\n",
    "#     n_customers =integer(),\n",
    "#     time_spent = double(),\n",
    "#     category = character(),\n",
    "#     Operating.name = character(),\n",
    "#     interaction_term = integer()\n",
    "# )\n",
    "  \n",
    "#   for( j in 1:nrow(business)){\n",
    "#     lon1 <- parking_data_with_nearest_business[i,\"lng\"]\n",
    "#     lat1 <- parking_data_with_nearest_business[i,\"lat\"]\n",
    "#     lon2 <- business[j, \"long\"]\n",
    "#     lat2 <- business[j, \"lat\"]\n",
    " \n",
    "\n",
    "#     # Calculate distance\n",
    "#     distance <- st_distance(st_point(c(lon1, lat1)), st_point(c(lon2, lat2)))\n",
    "    \n",
    "#     # Store the results in the temporary data frame\n",
    "#     temp_df[nrow(temp_df) + 1, ] <- list(\n",
    "#       address = parking_data_with_nearest_business[i,\"address\"],\n",
    "#       lat = parking_data_with_nearest_business[i,\"lat\"],\n",
    "#       lng = parking_data_with_nearest_business[i,\"lng\"],\n",
    "#       distance = distance,\n",
    "#       #capacity = parking_data_with_nearest_business[i,\"capacity\"],\n",
    "#       traffic_volume = parking_data_with_nearest_business[i,\"traffic_volume\"],\n",
    "#       #n_business = parking_data_with_nearest_business[i,\"nearest_business\"],\n",
    "#       #rate_half_hr = parking_data_with_nearest_business[i,\"rate_half_hr\"],\n",
    "#       n_customers = business[j,\"qCustomer\"],\n",
    "#       time_spent = business[j,\"tCustomer\"],\n",
    "#       category = business[j,\"Category\"],\n",
    "#       Operating.name = business[j,\"Operating.Name\"],\n",
    "#       interaction_term = business[j,\"qCustomer\"] * business[j,\"tCustomer\"]\n",
    "#     )\n",
    "#   }\n",
    "  \n",
    "#   # Append the temporary data frame to the result list\n",
    "#   result_list[[i]] <- temp_df\n",
    "# }\n",
    "\n",
    "# # Combine all the results into a single data frame\n",
    "# result_df <- do.call(rbind, result_list)\n",
    "\n",
    "# ###############\n",
    "# filtered_result_df2 <- filter(result_df, result_df$distance <= 0.5)\n",
    "# filtered_result_df2 <- filtered_result_df2 %>%\n",
    "#   group_by(Operating.name) %>% \n",
    "#   slice(which.min(distance))\n",
    "\n",
    "# filtered_result_df3 <- filtered_result_df2 %>%\n",
    "#   group_by(address) %>%\n",
    "#   summarise (distance = mean(distance), capacity =mean(capacity), n_business =n(),n_customers = sum(n_customers), time_spent= sum(time_spent), traffic_volume = sum(traffic_volume), interaction_term = sum(interaction_term)) \n",
    "\n",
    "# demand = 0.1\n",
    "# filtered_result_df3 <- filtered_result_df3 %>%\n",
    "#   mutate(biz_demand = demand*interaction_term)\n",
    "  \n",
    "\n",
    "# model1b <- lm(capacity ~ distance + n_customers + time_spent + interaction_term, data = filtered_result_df3)\n",
    "# summary(model1b)\n",
    "\n",
    "# model1c <- lm(capacity ~ distance + traffic_volume + n_customers + time_spent + interaction_term, data = filtered_result_df3)\n",
    "# summary(model1c)\n",
    "\n",
    "# model2a <- lm(capacity ~ distance  + interaction_term, data = filtered_result_df3)\n",
    "# summary(model2a)\n",
    "\n",
    "# model2b <- lm(capacity ~ distance + interaction_term, data = filtered_result_df3)\n",
    "# summary(model2b)\n",
    "\n",
    "# model2c <- lm(capacity ~ interaction_term, data = filtered_result_df3)\n",
    "# summary(model2c)\n",
    "\n",
    "     \n",
    "# })\n"
   ]
  },
  {
   "cell_type": "code",
   "execution_count": null,
   "metadata": {
    "vscode": {
     "languageId": "r"
    }
   },
   "outputs": [],
   "source": [
    "# filtered_result_df2 <- filter(result_df, result_df$distance <= 0.5)\n",
    "# filtered_result_df2 <- filtered_result_df2 %>%\n",
    "#   group_by(Operating.name) %>% \n",
    "#   slice(which.min(distance))\n",
    "\n",
    "# filtered_result_df3 <- filtered_result_df2 %>%\n",
    "#   group_by(address) %>%\n",
    "#   summarise (distance = mean(distance),rate_half_hr = mean(rate_half_hr), capacity =mean(capacity), n_business =n(),n_customers = sum(n_customers), time_spent= sum(time_spent), traffic_volume = sum(traffic_volume), interaction_term = sum(interaction_term)) \n",
    "\n",
    "# demand = 0.1\n",
    "# filtered_result_df3 <- filtered_result_df3 %>%\n",
    "#   mutate(biz_demand = demand*interaction_term)\n",
    "  \n",
    "\n",
    "# model1b <- lm(capacity ~ distance + n_customers + time_spent + interaction_term, data = filtered_result_df3)\n",
    "# summary(model1b)\n",
    "\n",
    "# model1c <- lm(capacity ~ distance + traffic_volume + n_customers + time_spent + interaction_term, data = filtered_result_df3)\n",
    "# summary(model1c)\n",
    "\n",
    "# model2a <- lm(capacity ~ distance  + rate_half_hr + interaction_term, data = filtered_result_df3)\n",
    "# summary(model2a)\n",
    "\n",
    "# model2b <- lm(capacity ~ distance + interaction_term, data = filtered_result_df3)\n",
    "# summary(model2b)\n",
    "\n",
    "# model2c <- lm(capacity ~ interaction_term, data = filtered_result_df3)\n",
    "# summary(model2c)\n",
    "\n",
    "\n",
    "# #######################\n",
    "\n",
    "# # Filter rows according to radius\n",
    "\n",
    "# filtered_result_df <- result_df[result_df$distance <= 0.50, ]\n",
    "# a=filtered_result_df %>% count(address)\n",
    "\n",
    "\n",
    "# filtered_result_df <- filtered_result_df %>%\n",
    "#   left_join(a, by = \"address\")\n",
    "\n",
    "# # Select desired columns and rename the \"n\" column\n",
    "# filtered_result_df <- filtered_result_df %>%\n",
    "#   select(address, lat,lng, distance,rate_half_hr, n_businesses = n, capacity, n_customers, time_spent, traffic_volume, interaction_term) \n"
   ]
  },
  {
   "cell_type": "code",
   "execution_count": null,
   "metadata": {
    "vscode": {
     "languageId": "r"
    }
   },
   "outputs": [],
   "source": [
    "# filtered_result_df2 <- filtered_result_df %>%\n",
    "#   group_by(address, lat, lng) %>%\n",
    "#   summarise(sum_n_customers = sum(n_customers),\n",
    "#             sum_time_spent = sum(time_spent),\n",
    "#             sum_traffic_volume =sum(traffic_volume)) %>%\n",
    "#   select(address, lat, lng, sum_n_customers, sum_time_spent, sum_traffic_volume)\n",
    "\n",
    "# print(head(filtered_result_df2))"
   ]
  },
  {
   "cell_type": "code",
   "execution_count": null,
   "metadata": {
    "vscode": {
     "languageId": "r"
    }
   },
   "outputs": [],
   "source": [
    "# # Normalize predictors\n",
    "# filtered_result_df$traffic_volume <- scale(filtered_result_df$traffic_volume)\n",
    "# filtered_result_df$distance <- scale(filtered_result_df$distance)\n",
    "# filtered_result_df$n_customers <- scale(filtered_result_df$n_customers)\n",
    "# filtered_result_df$time_spent <- scale(filtered_result_df$time_spent)\n",
    "# filtered_result_df$interaction_term <- scale(filtered_result_df$interaction_term)\n",
    "# filtered_result_df$rate_half_hr <- scale(filtered_result_df$rate_half_hr)\n",
    "\n",
    "\n"
   ]
  },
  {
   "cell_type": "code",
   "execution_count": null,
   "metadata": {
    "vscode": {
     "languageId": "r"
    }
   },
   "outputs": [],
   "source": [
    "\n",
    "# model1 <- glm(family=gaussian, capacity ~ traffic_volume  + distance + n_customers + time_spent + interaction_term  + rate_half_hr, data = filtered_result_df)\n",
    "\n",
    "# summary(model1)\n",
    "\n",
    "# model2 <- glm(capacity ~ traffic_volume  + distance  + rate_half_hr + interaction_term, data = filtered_result_df)\n",
    "# summary(model2)"
   ]
  },
  {
   "cell_type": "code",
   "execution_count": null,
   "metadata": {
    "vscode": {
     "languageId": "r"
    }
   },
   "outputs": [],
   "source": [
    "\n",
    "# # ----------------------------For 0.4 * existing traffic_volume -----------------------------------\n",
    "\n",
    "# all_results <- data.frame()\n",
    "\n",
    "# x_percent=0.4\n",
    "# new_traffic_scenario = filtered_result_df$traffic_volume * x_percent\n",
    "# newdata = data.frame(traffic_volume = new_traffic_scenario,\n",
    "#                      address=filtered_result_df$address,\n",
    "#                      distance = filtered_result_df$distance,\n",
    "#                      n_customers = filtered_result_df$n_customers,\n",
    "#                      time_spent = filtered_result_df$time_spent,\n",
    "#                      interaction_term = filtered_result_df$interaction_term,\n",
    "#                      rate_half_hr= filtered_result_df$rate_half_hr)\n",
    "\n",
    "# # Make predictions\n",
    "# predicted_capacity <- predict(model2, newdata)\n",
    "\n",
    "# # Determine conversion needs\n",
    "# capacity_needed <- ifelse(predicted_capacity > 1, ceiling(predicted_capacity), 0)\n",
    "\n",
    "# # Store results for this scenario \n",
    "# results <- data.frame(filtered_result_df$address, filtered_result_df$lat, filtered_result_df$lng, filtered_result_df$capacity,capacity_needed, filtered_result_df$n_businesses, filtered_result_df$n_customers, filtered_result_df$time_spent)\n",
    "\n",
    "\n",
    "# # ----------------------------For different % of traffic_volumes -----------------------------------\n",
    "\n",
    "# # Iterate for different EV adoption rates\n",
    "# x_percent_values <- seq(from = 0.1, to = 1, by = 0.4)  \n",
    "# all_results <- data.frame()\n",
    "\n",
    "# for (x_percent in x_percent_values) {\n",
    "#   # Create new traffic scenario\n",
    "#   new_traffic_scenario = result_df$traffic_volume * x_percent\n",
    "#   newdata = data.frame(traffic_volume = new_traffic_scenario,\n",
    "#                      address=filtered_result_df$address,\n",
    "#                      distance = filtered_result_df$distance,\n",
    "#                      n_customers = filtered_result_df$n_customers,\n",
    "#                      time_spent = filtered_result_df$time_spent,\n",
    "#                      interaction_term = filtered_result_df$interaction_term,\n",
    "#                      rate_half_hr= filtered_result_df$rate_half_hr)\n",
    "\n",
    "#   # Make predictions\n",
    "#   predicted_capacity <- predict(model1, newdata)\n",
    "#   # Determine conversion needs\n",
    "#   capacity_needed <- ifelse(predicted_capacity > 1, ceiling(predicted_capacity), 0)\n",
    "\n",
    "#   # Store results for this scenario \n",
    "#   results <- data.frame(data.frame(filtered_result_df$address, filtered_result_df$lat, filtered_result_df$lng, filtered_result_df$capacity,capacity_needed, filtered_result_df$n_businesses, filtered_result_df$n_customers, filtered_result_df$time_spent))\n",
    "#   all_results <- rbind(all_results, results)\n",
    "# }\n",
    "\n",
    "# # Sort combined results\n",
    "# all_results <- arrange(all_results, x_percent)\n",
    "\n",
    "# # Create table\n",
    "# library(kableExtra)  \n",
    "# table <- kable(all_results, caption = \"Conversion Needs by EV Adoption Rate\")\n",
    "# print(table)\n",
    "\n",
    "\n"
   ]
  },
  {
   "cell_type": "code",
   "execution_count": null,
   "metadata": {
    "vscode": {
     "languageId": "r"
    }
   },
   "outputs": [],
   "source": [
    "# # Scoring function\n",
    "# calculate_score <- function(traffic_volume, capacity, rate_half_hr, nearest_businesses, customers, c_time, distance) {\n",
    "#   # Define weights for each factor\n",
    "#   weights <- c(0.2, 0.1, 0.2, 0.2, 0.1, 0.1, 0.1)\n",
    "  \n",
    "#   # Normalize each factor\n",
    "#   normalized_traffic <- (traffic_volume - min(traffic_volume)) / (max(traffic_volume) - min(traffic_volume))\n",
    "#   normalized_capacity <- (capacity - min(capacity)) / (max(capacity) - min(capacity))\n",
    "#   normalized_rate <- (rate_half_hr - min(rate_half_hr)) / (max(rate_half_hr) - min(rate_half_hr))\n",
    "#   normalized_n_businesses <- (nearest_businesses - min(nearest_businesses)) / (max(nearest_businesses) - min(nearest_businesses))\n",
    "#   normalized_customers <-(customers - min(customers)) / (max(customers) - min(customers))\n",
    "#   normalized_time <- (c_time - min(c_time)) / (max(c_time) - min(c_time))\n",
    "#   normalized_distance <- (distance - min(distance)) / (max(distance) - min(distance))\n",
    "\n",
    "#   # Calculate the score\n",
    "#   score <- weights[1] * normalized_traffic +\n",
    "#     weights[2] * normalized_capacity +\n",
    "#     weights[3] * normalized_distance +\n",
    "#     weights[4] * normalized_n_businesses + \n",
    "#     weights[5] * (normalized_customers * normalized_time) +\n",
    "#     weights[6] * (normalized_rate)\n",
    "\n",
    "#   return(abs(score))\n",
    "# }\n",
    "\n",
    "# # Calculate score for each parking spot\n",
    "# filtered_result_df$score <- calculate_score(filtered_result_df$traffic_volume, filtered_result_df$capacity, filtered_result_df$rate_half_hr, filtered_result_df$n_businesses, filtered_result_df$n_customers, filtered_result_df$time_spent,filtered_result_df$distance)\n",
    "# # Rank the parking spots based on the score\n",
    "# ranked_data <- filtered_result_df[order(-filtered_result_df$score),]\n",
    "\n",
    "# # Find highest scored parking spot\n",
    "# highest_score_index <- which.max(ranked_data$score)\n",
    "# highest_score_parking_spot <- filtered_result_df[highest_score_index, ]\n",
    "\n",
    "# # Print the result\n",
    "# print(paste0(\"Address of parking spot: \",highest_score_parking_spot$address))\n",
    "# print(paste0(\"Latitude of parking spot: \",highest_score_parking_spot$lat))\n",
    "# print(paste0(\"Longitude of parking spot: \",highest_score_parking_spot$lng))\n"
   ]
  },
  {
   "cell_type": "code",
   "execution_count": null,
   "metadata": {
    "vscode": {
     "languageId": "r"
    }
   },
   "outputs": [],
   "source": [
    "# Result and Discussion\n"
   ]
  },
  {
   "cell_type": "code",
   "execution_count": null,
   "metadata": {
    "vscode": {
     "languageId": "r"
    }
   },
   "outputs": [],
   "source": []
  },
  {
   "cell_type": "code",
   "execution_count": null,
   "metadata": {
    "vscode": {
     "languageId": "r"
    }
   },
   "outputs": [],
   "source": [
    "# # Define the polygon coordinates\n",
    "# polygon_coords <- matrix(c(\n",
    "#   -79.4289964889767, 43.6700360241176, -79.4226792245877, 43.6543887000655, -79.4000484228339, 43.657948514946, -79.4070875693025, 43.6748646586934,-79.4289964889767, 43.6700360241176  # Repeat first point to close the polygon exactly\n",
    "# ), ncol = 2, byrow = TRUE)\n",
    "\n",
    "# # Create a polygon geometry\n",
    "# polygon <- st_polygon(list(polygon_coords))\n",
    "\n",
    "# # Convert the polygon object to an 'sf' object with a specified CRS (Coordinate Reference System)\n",
    "# polygon <- st_sfc(polygon, crs = 4326)\n",
    "\n",
    "# # Convert the data frame 'data' to an 'sf' object, specifying the columns containing longitude and latitude as coordinates, and set the CRS\n",
    "# data_sf <- st_as_sf(data, coords = c(\"lng\", \"lat\"), crs = 4326)\n",
    "\n",
    "# # Find the indices of the rows in 'data_sf' that fall within the polygon\n",
    "# indices <- st_within(data_sf, polygon)\n",
    "\n",
    "# # Convert the indices to a data frame\n",
    "# indices_df<-data.frame(indices)\n",
    "\n",
    "# selected_rows <- data_sf[match(indices_df$row.id, seq_len(nrow(data))), ]\n"
   ]
  }
 ],
 "metadata": {
  "kernelspec": {
   "display_name": "R",
   "language": "R",
   "name": "ir"
  },
  "language_info": {
   "codemirror_mode": "r",
   "file_extension": ".r",
   "mimetype": "text/x-r-source",
   "name": "R",
   "pygments_lexer": "r",
   "version": "4.3.3"
  }
 },
 "nbformat": 4,
 "nbformat_minor": 4
}
